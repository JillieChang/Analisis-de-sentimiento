{
 "cells": [
  {
   "cell_type": "code",
   "execution_count": 1,
   "metadata": {},
   "outputs": [
    {
     "name": "stdout",
     "output_type": "stream",
     "text": [
      "Requirement already satisfied: tweepy in c:\\users\\jilli\\anaconda3\\lib\\site-packages (3.9.0)\n",
      "Requirement already satisfied: requests-oauthlib>=0.7.0 in c:\\users\\jilli\\anaconda3\\lib\\site-packages (from tweepy) (1.3.0)\n",
      "Requirement already satisfied: six>=1.10.0 in c:\\users\\jilli\\anaconda3\\lib\\site-packages (from tweepy) (1.15.0)\n",
      "Requirement already satisfied: requests[socks]>=2.11.1 in c:\\users\\jilli\\anaconda3\\lib\\site-packages (from tweepy) (2.24.0)\n",
      "Requirement already satisfied: oauthlib>=3.0.0 in c:\\users\\jilli\\anaconda3\\lib\\site-packages (from requests-oauthlib>=0.7.0->tweepy) (3.1.0)\n",
      "Requirement already satisfied: idna<3,>=2.5 in c:\\users\\jilli\\anaconda3\\lib\\site-packages (from requests[socks]>=2.11.1->tweepy) (2.10)\n",
      "Requirement already satisfied: urllib3!=1.25.0,!=1.25.1,<1.26,>=1.21.1 in c:\\users\\jilli\\anaconda3\\lib\\site-packages (from requests[socks]>=2.11.1->tweepy) (1.25.9)\n",
      "Requirement already satisfied: chardet<4,>=3.0.2 in c:\\users\\jilli\\anaconda3\\lib\\site-packages (from requests[socks]>=2.11.1->tweepy) (3.0.4)\n",
      "Requirement already satisfied: certifi>=2017.4.17 in c:\\users\\jilli\\anaconda3\\lib\\site-packages (from requests[socks]>=2.11.1->tweepy) (2020.6.20)\n",
      "Requirement already satisfied: PySocks!=1.5.7,>=1.5.6; extra == \"socks\" in c:\\users\\jilli\\anaconda3\\lib\\site-packages (from requests[socks]>=2.11.1->tweepy) (1.7.1)\n",
      "Note: you may need to restart the kernel to use updated packages.\n"
     ]
    }
   ],
   "source": [
    "pip install tweepy"
   ]
  },
  {
   "cell_type": "code",
   "execution_count": 2,
   "metadata": {},
   "outputs": [],
   "source": [
    "import tweepy \n",
    "import pandas as pd\n",
    "import numpy as np\n",
    "import GetOldTweets3 as got\n",
    "import time\n",
    "from IPython.display import display\n",
    "import matplotlib.pyplot as plt\n",
    "import seaborn as sns\n",
    "from credentials import *"
   ]
  },
  {
   "cell_type": "code",
   "execution_count": 3,
   "metadata": {},
   "outputs": [],
   "source": [
    "def twitter_setup():\n",
    "    auth= tweepy.OAuthHandler(CONSUMER_KEY,CONSUMER_SECRET)\n",
    "    auth.set_access_token(ACCESS_TOKEN, ACCESS_SECRET)\n",
    "    api = tweepy.API(auth, wait_on_rate_limit=True)\n",
    "    return api\n",
    "\n",
    "auth= tweepy.OAuthHandler(CONSUMER_KEY,CONSUMER_SECRET)\n",
    "auth.set_access_token(ACCESS_TOKEN, ACCESS_SECRET)\n",
    "api = tweepy.API(auth, wait_on_rate_limit=True)\n",
    "extractor = twitter_setup()"
   ]
  },
  {
   "cell_type": "code",
   "execution_count": 5,
   "metadata": {},
   "outputs": [],
   "source": [
    "COLOMBIA_CONCAT_DISTINCT= pd.read_csv(r'C:\\Users\\jilli\\Desktop\\TFM\\BASES_FINALES\\COLOMBIA_CONCAT_DISTINCT.csv')\n",
    "CHILE_CONCAT_DISTINCT= pd.read_csv(r'C:\\Users\\jilli\\Desktop\\TFM\\BASES_FINALES\\CHILE_CONCAT_DISTINCT.csv')\n",
    "PERU_CONCAT_DISTINCT= pd.read_csv(r'C:\\Users\\jilli\\Desktop\\TFM\\BASES_FINALES\\PERU_CONCAT_DISTINCT.csv')\n",
    "URUGUAY_CONCAT_DISTINCT= pd.read_csv(r'C:\\Users\\jilli\\Desktop\\TFM\\BASES_FINALES\\URUGUAY_CONCAT_DISTINCT.csv')\n",
    "ARGENTINA_CONCAT_DISTINCT= pd.read_csv(r'C:\\Users\\jilli\\Desktop\\TFM\\BASES_FINALES\\ARGENTINA_CONCAT_DISTINCT.csv')\n",
    "ECUADOR_CONCAT_DISTINCT= pd.read_csv(r'C:\\Users\\jilli\\Desktop\\TFM\\BASES_FINALES\\ECUADOR_CONCAT_DISTINCT.csv')"
   ]
  },
  {
   "cell_type": "code",
   "execution_count": 8,
   "metadata": {},
   "outputs": [],
   "source": [
    "PAISES_CONCAT_DISTINCT = pd.concat([COLOMBIA_CONCAT_DISTINCT, CHILE_CONCAT_DISTINCT,PERU_CONCAT_DISTINCT,URUGUAY_CONCAT_DISTINCT,ARGENTINA_CONCAT_DISTINCT,ECUADOR_CONCAT_DISTINCT])"
   ]
  },
  {
   "cell_type": "code",
   "execution_count": 10,
   "metadata": {},
   "outputs": [],
   "source": [
    "PAISES_CONCAT_DISTINCT.to_csv('PAISES_CONCAT_DISTINCT.csv', header=True, index=False, encoding='utf-8-sig')"
   ]
  },
  {
   "cell_type": "code",
   "execution_count": 14,
   "metadata": {},
   "outputs": [
    {
     "data": {
      "text/plain": [
       "Arg    115398\n",
       "Chi    104591\n",
       "Col     97087\n",
       "Per     55588\n",
       "Uru     26166\n",
       "Ecu     23931\n",
       "Name: Pais, dtype: int64"
      ]
     },
     "execution_count": 14,
     "metadata": {},
     "output_type": "execute_result"
    }
   ],
   "source": [
    "PAISES_CONCAT_DISTINCT[\"Pais\"].value_counts()"
   ]
  },
  {
   "cell_type": "code",
   "execution_count": 26,
   "metadata": {},
   "outputs": [
    {
     "data": {
      "text/html": [
       "<div>\n",
       "<style scoped>\n",
       "    .dataframe tbody tr th:only-of-type {\n",
       "        vertical-align: middle;\n",
       "    }\n",
       "\n",
       "    .dataframe tbody tr th {\n",
       "        vertical-align: top;\n",
       "    }\n",
       "\n",
       "    .dataframe thead th {\n",
       "        text-align: right;\n",
       "    }\n",
       "</style>\n",
       "<table border=\"1\" class=\"dataframe\">\n",
       "  <thead>\n",
       "    <tr style=\"text-align: right;\">\n",
       "      <th></th>\n",
       "      <th>Tweet_Id</th>\n",
       "      <th>Tweet_User_Id</th>\n",
       "      <th>Tweet_User</th>\n",
       "      <th>Text</th>\n",
       "      <th>Retweets</th>\n",
       "      <th>Favorites</th>\n",
       "      <th>Replies</th>\n",
       "      <th>Datetime</th>\n",
       "      <th>hashtags</th>\n",
       "      <th>Pais</th>\n",
       "    </tr>\n",
       "  </thead>\n",
       "  <tbody>\n",
       "    <tr>\n",
       "      <th>0</th>\n",
       "      <td>1300465503564173313</td>\n",
       "      <td>480666205</td>\n",
       "      <td>DrPasm</td>\n",
       "      <td>El antes y el durante la pandemia comunista ch...</td>\n",
       "      <td>0</td>\n",
       "      <td>0</td>\n",
       "      <td>0</td>\n",
       "      <td>2020-08-31 16:08:32+00:00</td>\n",
       "      <td>NaN</td>\n",
       "      <td>Col</td>\n",
       "    </tr>\n",
       "    <tr>\n",
       "      <th>1</th>\n",
       "      <td>1300264361466920960</td>\n",
       "      <td>85148912</td>\n",
       "      <td>jocaritomb</td>\n",
       "      <td>Día 166 #cuarentena ... Ya sé que se acabó, qu...</td>\n",
       "      <td>0</td>\n",
       "      <td>0</td>\n",
       "      <td>0</td>\n",
       "      <td>2020-08-31 02:49:16+00:00</td>\n",
       "      <td>#cuarentena</td>\n",
       "      <td>Col</td>\n",
       "    </tr>\n",
       "    <tr>\n",
       "      <th>2</th>\n",
       "      <td>1300185866871042048</td>\n",
       "      <td>170478394</td>\n",
       "      <td>diegob1946</td>\n",
       "      <td>Simplemente irresistible 🍓🍇🍒 . . #postres #ant...</td>\n",
       "      <td>0</td>\n",
       "      <td>0</td>\n",
       "      <td>0</td>\n",
       "      <td>2020-08-30 21:37:21+00:00</td>\n",
       "      <td>#postres #antojo #detalles #domicilio #takeawa...</td>\n",
       "      <td>Col</td>\n",
       "    </tr>\n",
       "    <tr>\n",
       "      <th>3</th>\n",
       "      <td>1299935511801458693</td>\n",
       "      <td>1252327240731365381</td>\n",
       "      <td>MesaLGBTIusaque</td>\n",
       "      <td>Seguimos cuidandonos solo por emergencia podem...</td>\n",
       "      <td>0</td>\n",
       "      <td>0</td>\n",
       "      <td>0</td>\n",
       "      <td>2020-08-30 05:02:32+00:00</td>\n",
       "      <td>#reactivaci #pandemia #bioseguridad #contagio ...</td>\n",
       "      <td>Col</td>\n",
       "    </tr>\n",
       "    <tr>\n",
       "      <th>4</th>\n",
       "      <td>1299892408465993728</td>\n",
       "      <td>85148912</td>\n",
       "      <td>jocaritomb</td>\n",
       "      <td>Día 165 #cuarentena ... Más despeinada de lo n...</td>\n",
       "      <td>0</td>\n",
       "      <td>0</td>\n",
       "      <td>0</td>\n",
       "      <td>2020-08-30 02:11:15+00:00</td>\n",
       "      <td>#cuarentena</td>\n",
       "      <td>Col</td>\n",
       "    </tr>\n",
       "    <tr>\n",
       "      <th>...</th>\n",
       "      <td>...</td>\n",
       "      <td>...</td>\n",
       "      <td>...</td>\n",
       "      <td>...</td>\n",
       "      <td>...</td>\n",
       "      <td>...</td>\n",
       "      <td>...</td>\n",
       "      <td>...</td>\n",
       "      <td>...</td>\n",
       "      <td>...</td>\n",
       "    </tr>\n",
       "    <tr>\n",
       "      <th>422756</th>\n",
       "      <td>1245337348474384384</td>\n",
       "      <td>149188253</td>\n",
       "      <td>MAGGUIE8</td>\n",
       "      <td>Todo el Ecuador se está confiando. Pero al men...</td>\n",
       "      <td>0</td>\n",
       "      <td>1</td>\n",
       "      <td>0</td>\n",
       "      <td>2020-04-01 13:08:55+00:00</td>\n",
       "      <td>NaN</td>\n",
       "      <td>Ecu</td>\n",
       "    </tr>\n",
       "    <tr>\n",
       "      <th>422757</th>\n",
       "      <td>1244776460751159299</td>\n",
       "      <td>1066064425562574855</td>\n",
       "      <td>jesus40385416</td>\n",
       "      <td>Necesitamos medicamentos para el coronavirus s...</td>\n",
       "      <td>0</td>\n",
       "      <td>0</td>\n",
       "      <td>0</td>\n",
       "      <td>2020-03-31 00:00:09+00:00</td>\n",
       "      <td>NaN</td>\n",
       "      <td>Ecu</td>\n",
       "    </tr>\n",
       "    <tr>\n",
       "      <th>422758</th>\n",
       "      <td>1244496458306465793</td>\n",
       "      <td>754386037439336452</td>\n",
       "      <td>MedioSin</td>\n",
       "      <td>Y cuánto para sobreprecios; ojo estamos cheque...</td>\n",
       "      <td>0</td>\n",
       "      <td>0</td>\n",
       "      <td>0</td>\n",
       "      <td>2020-03-30 05:27:31+00:00</td>\n",
       "      <td>NaN</td>\n",
       "      <td>Ecu</td>\n",
       "    </tr>\n",
       "    <tr>\n",
       "      <th>422759</th>\n",
       "      <td>1244127921310175232</td>\n",
       "      <td>754386037439336452</td>\n",
       "      <td>MedioSin</td>\n",
       "      <td>Inoportuna la carta, porque no unir esfuerzo e...</td>\n",
       "      <td>0</td>\n",
       "      <td>0</td>\n",
       "      <td>0</td>\n",
       "      <td>2020-03-29 05:03:05+00:00</td>\n",
       "      <td>NaN</td>\n",
       "      <td>Ecu</td>\n",
       "    </tr>\n",
       "    <tr>\n",
       "      <th>422760</th>\n",
       "      <td>1243870397784887298</td>\n",
       "      <td>149188253</td>\n",
       "      <td>MAGGUIE8</td>\n",
       "      <td>Es increíble que en su momento no se haya magn...</td>\n",
       "      <td>1</td>\n",
       "      <td>0</td>\n",
       "      <td>0</td>\n",
       "      <td>2020-03-28 11:59:47+00:00</td>\n",
       "      <td>NaN</td>\n",
       "      <td>Ecu</td>\n",
       "    </tr>\n",
       "  </tbody>\n",
       "</table>\n",
       "<p>422761 rows × 10 columns</p>\n",
       "</div>"
      ],
      "text/plain": [
       "                   Tweet_Id        Tweet_User_Id       Tweet_User  \\\n",
       "0       1300465503564173313            480666205           DrPasm   \n",
       "1       1300264361466920960             85148912       jocaritomb   \n",
       "2       1300185866871042048            170478394       diegob1946   \n",
       "3       1299935511801458693  1252327240731365381  MesaLGBTIusaque   \n",
       "4       1299892408465993728             85148912       jocaritomb   \n",
       "...                     ...                  ...              ...   \n",
       "422756  1245337348474384384            149188253         MAGGUIE8   \n",
       "422757  1244776460751159299  1066064425562574855    jesus40385416   \n",
       "422758  1244496458306465793   754386037439336452         MedioSin   \n",
       "422759  1244127921310175232   754386037439336452         MedioSin   \n",
       "422760  1243870397784887298            149188253         MAGGUIE8   \n",
       "\n",
       "                                                     Text  Retweets  \\\n",
       "0       El antes y el durante la pandemia comunista ch...         0   \n",
       "1       Día 166 #cuarentena ... Ya sé que se acabó, qu...         0   \n",
       "2       Simplemente irresistible 🍓🍇🍒 . . #postres #ant...         0   \n",
       "3       Seguimos cuidandonos solo por emergencia podem...         0   \n",
       "4       Día 165 #cuarentena ... Más despeinada de lo n...         0   \n",
       "...                                                   ...       ...   \n",
       "422756  Todo el Ecuador se está confiando. Pero al men...         0   \n",
       "422757  Necesitamos medicamentos para el coronavirus s...         0   \n",
       "422758  Y cuánto para sobreprecios; ojo estamos cheque...         0   \n",
       "422759  Inoportuna la carta, porque no unir esfuerzo e...         0   \n",
       "422760  Es increíble que en su momento no se haya magn...         1   \n",
       "\n",
       "        Favorites  Replies                   Datetime  \\\n",
       "0               0        0  2020-08-31 16:08:32+00:00   \n",
       "1               0        0  2020-08-31 02:49:16+00:00   \n",
       "2               0        0  2020-08-30 21:37:21+00:00   \n",
       "3               0        0  2020-08-30 05:02:32+00:00   \n",
       "4               0        0  2020-08-30 02:11:15+00:00   \n",
       "...           ...      ...                        ...   \n",
       "422756          1        0  2020-04-01 13:08:55+00:00   \n",
       "422757          0        0  2020-03-31 00:00:09+00:00   \n",
       "422758          0        0  2020-03-30 05:27:31+00:00   \n",
       "422759          0        0  2020-03-29 05:03:05+00:00   \n",
       "422760          0        0  2020-03-28 11:59:47+00:00   \n",
       "\n",
       "                                                 hashtags Pais  \n",
       "0                                                     NaN  Col  \n",
       "1                                             #cuarentena  Col  \n",
       "2       #postres #antojo #detalles #domicilio #takeawa...  Col  \n",
       "3       #reactivaci #pandemia #bioseguridad #contagio ...  Col  \n",
       "4                                             #cuarentena  Col  \n",
       "...                                                   ...  ...  \n",
       "422756                                                NaN  Ecu  \n",
       "422757                                                NaN  Ecu  \n",
       "422758                                                NaN  Ecu  \n",
       "422759                                                NaN  Ecu  \n",
       "422760                                                NaN  Ecu  \n",
       "\n",
       "[422761 rows x 10 columns]"
      ]
     },
     "execution_count": 26,
     "metadata": {},
     "output_type": "execute_result"
    }
   ],
   "source": [
    "PAISES_CONCAT_DISTINCT.reset_index(drop=True, inplace=True)\n",
    "PAISES_CONCAT_DISTINCT"
   ]
  },
  {
   "cell_type": "code",
   "execution_count": 27,
   "metadata": {},
   "outputs": [],
   "source": [
    "#Jillie paises_covid20 hasta paises\n",
    "PAISES_COVID1=PAISES_CONCAT_DISTINCT[:10000]\n",
    "PAISES_COVID2=PAISES_CONCAT_DISTINCT[10000:20000]\n",
    "PAISES_COVID3=PAISES_CONCAT_DISTINCT[20000:30000]\n",
    "PAISES_COVID4=PAISES_CONCAT_DISTINCT[30000:40000]\n",
    "PAISES_COVID5=PAISES_CONCAT_DISTINCT[40000:50000]\n",
    "PAISES_COVID6=PAISES_CONCAT_DISTINCT[50000:60000]\n",
    "PAISES_COVID7=PAISES_CONCAT_DISTINCT[60000:70000]\n",
    "PAISES_COVID8=PAISES_CONCAT_DISTINCT[70000:80000]\n",
    "PAISES_COVID9=PAISES_CONCAT_DISTINCT[80000:90000]\n",
    "PAISES_COVID10=PAISES_CONCAT_DISTINCT[90000:100000]\n",
    "PAISES_COVID11=PAISES_CONCAT_DISTINCT[100000:110000]\n",
    "PAISES_COVID12=PAISES_CONCAT_DISTINCT[110000:120000]\n",
    "PAISES_COVID13=PAISES_CONCAT_DISTINCT[120000:130000]\n",
    "PAISES_COVID14=PAISES_CONCAT_DISTINCT[130000:140000]\n",
    "PAISES_COVID15=PAISES_CONCAT_DISTINCT[140000:150000]\n",
    "PAISES_COVID16=PAISES_CONCAT_DISTINCT[150000:160000]\n",
    "PAISES_COVID17=PAISES_CONCAT_DISTINCT[160000:170000]\n",
    "PAISES_COVID18=PAISES_CONCAT_DISTINCT[170000:180000]\n",
    "PAISES_COVID19=PAISES_CONCAT_DISTINCT[180000:190000]\n",
    "PAISES_COVID20=PAISES_CONCAT_DISTINCT[190000:200000]\n",
    "PAISES_COVID21=PAISES_CONCAT_DISTINCT[200000:210000]\n",
    "PAISES_COVID22=PAISES_CONCAT_DISTINCT[210000:220000]\n",
    "PAISES_COVID23=PAISES_CONCAT_DISTINCT[220000:230000]\n",
    "PAISES_COVID24=PAISES_CONCAT_DISTINCT[230000:240000]\n",
    "PAISES_COVID25=PAISES_CONCAT_DISTINCT[240000:250000]\n",
    "PAISES_COVID26=PAISES_CONCAT_DISTINCT[250000:260000]\n",
    "PAISES_COVID27=PAISES_CONCAT_DISTINCT[260000:270000]\n",
    "PAISES_COVID28=PAISES_CONCAT_DISTINCT[270000:280000]\n",
    "PAISES_COVID29=PAISES_CONCAT_DISTINCT[280000:290000]\n",
    "PAISES_COVID30=PAISES_CONCAT_DISTINCT[290000:300000]\n",
    "PAISES_COVID31=PAISES_CONCAT_DISTINCT[300000:310000]\n",
    "PAISES_COVID32=PAISES_CONCAT_DISTINCT[310000:320000]\n",
    "PAISES_COVID33=PAISES_CONCAT_DISTINCT[320000:330000]\n",
    "PAISES_COVID34=PAISES_CONCAT_DISTINCT[330000:340000]\n",
    "PAISES_COVID35=PAISES_CONCAT_DISTINCT[340000:350000]\n",
    "PAISES_COVID36=PAISES_CONCAT_DISTINCT[350000:360000]\n",
    "PAISES_COVID37=PAISES_CONCAT_DISTINCT[360000:370000]\n",
    "PAISES_COVID38=PAISES_CONCAT_DISTINCT[370000:380000]\n",
    "PAISES_COVID39=PAISES_CONCAT_DISTINCT[380000:390000]\n",
    "PAISES_COVID40=PAISES_CONCAT_DISTINCT[390000:400000]\n",
    "PAISES_COVID41=PAISES_CONCAT_DISTINCT[400000:410000]\n",
    "PAISES_COVID42=PAISES_CONCAT_DISTINCT[410000:420000]\n",
    "PAISES_COVID43=PAISES_CONCAT_DISTINCT[420000:430000]"
   ]
  },
  {
   "cell_type": "code",
   "execution_count": 33,
   "metadata": {},
   "outputs": [],
   "source": [
    "PAISES_COVID1.to_csv('PAISES_CONCAT_DISTINCT1.csv', header=True, index=False, encoding='utf-8-sig')\n",
    "PAISES_COVID2.to_csv('PAISES_CONCAT_DISTINCT2.csv', header=True, index=False, encoding='utf-8-sig')\n",
    "PAISES_COVID3.to_csv('PAISES_CONCAT_DISTINCT3.csv', header=True, index=False, encoding='utf-8-sig')\n",
    "PAISES_COVID4.to_csv('PAISES_CONCAT_DISTINCT4.csv', header=True, index=False, encoding='utf-8-sig')\n",
    "PAISES_COVID5.to_csv('PAISES_CONCAT_DISTINCT5.csv', header=True, index=False, encoding='utf-8-sig')\n",
    "PAISES_COVID6.to_csv('PAISES_CONCAT_DISTINCT6.csv', header=True, index=False, encoding='utf-8-sig')\n",
    "PAISES_COVID7.to_csv('PAISES_CONCAT_DISTINCT7.csv', header=True, index=False, encoding='utf-8-sig')\n",
    "PAISES_COVID8.to_csv('PAISES_CONCAT_DISTINCT8.csv', header=True, index=False, encoding='utf-8-sig')\n",
    "PAISES_COVID9.to_csv('PAISES_CONCAT_DISTINCT9.csv', header=True, index=False, encoding='utf-8-sig')\n",
    "PAISES_COVID10.to_csv('PAISES_CONCAT_DISTINCT10.csv', header=True, index=False, encoding='utf-8-sig')\n",
    "PAISES_COVID11.to_csv('PAISES_CONCAT_DISTINCT11.csv', header=True, index=False, encoding='utf-8-sig')\n",
    "PAISES_COVID12.to_csv('PAISES_CONCAT_DISTINCT12.csv', header=True, index=False, encoding='utf-8-sig')\n",
    "PAISES_COVID13.to_csv('PAISES_CONCAT_DISTINCT13.csv', header=True, index=False, encoding='utf-8-sig')\n",
    "PAISES_COVID14.to_csv('PAISES_CONCAT_DISTINCT14.csv', header=True, index=False, encoding='utf-8-sig')\n",
    "PAISES_COVID15.to_csv('PAISES_CONCAT_DISTINCT15.csv', header=True, index=False, encoding='utf-8-sig')\n",
    "PAISES_COVID16.to_csv('PAISES_CONCAT_DISTINCT16.csv', header=True, index=False, encoding='utf-8-sig')\n",
    "PAISES_COVID17.to_csv('PAISES_CONCAT_DISTINCT17.csv', header=True, index=False, encoding='utf-8-sig')\n",
    "PAISES_COVID18.to_csv('PAISES_CONCAT_DISTINCT18.csv', header=True, index=False, encoding='utf-8-sig')\n",
    "PAISES_COVID19.to_csv('PAISES_CONCAT_DISTINCT19.csv', header=True, index=False, encoding='utf-8-sig')\n",
    "PAISES_COVID20.to_csv('PAISES_CONCAT_DISTINCT20.csv', header=True, index=False, encoding='utf-8-sig')\n",
    "PAISES_COVID21.to_csv('PAISES_CONCAT_DISTINCT21.csv', header=True, index=False, encoding='utf-8-sig')\n",
    "PAISES_COVID22.to_csv('PAISES_CONCAT_DISTINCT22.csv', header=True, index=False, encoding='utf-8-sig')\n",
    "PAISES_COVID23.to_csv('PAISES_CONCAT_DISTINCT23.csv', header=True, index=False, encoding='utf-8-sig')\n",
    "PAISES_COVID24.to_csv('PAISES_CONCAT_DISTINCT24.csv', header=True, index=False, encoding='utf-8-sig')\n",
    "PAISES_COVID25.to_csv('PAISES_CONCAT_DISTINCT25.csv', header=True, index=False, encoding='utf-8-sig')\n",
    "PAISES_COVID26.to_csv('PAISES_CONCAT_DISTINCT26.csv', header=True, index=False, encoding='utf-8-sig')\n",
    "PAISES_COVID27.to_csv('PAISES_CONCAT_DISTINCT27.csv', header=True, index=False, encoding='utf-8-sig')\n",
    "PAISES_COVID28.to_csv('PAISES_CONCAT_DISTINCT28.csv', header=True, index=False, encoding='utf-8-sig')\n",
    "PAISES_COVID29.to_csv('PAISES_CONCAT_DISTINCT29.csv', header=True, index=False, encoding='utf-8-sig')\n",
    "PAISES_COVID30.to_csv('PAISES_CONCAT_DISTINCT30.csv', header=True, index=False, encoding='utf-8-sig')\n",
    "PAISES_COVID31.to_csv('PAISES_CONCAT_DISTINCT31.csv', header=True, index=False, encoding='utf-8-sig')\n",
    "PAISES_COVID32.to_csv('PAISES_CONCAT_DISTINCT32.csv', header=True, index=False, encoding='utf-8-sig')\n",
    "PAISES_COVID33.to_csv('PAISES_CONCAT_DISTINCT33.csv', header=True, index=False, encoding='utf-8-sig')\n",
    "PAISES_COVID34.to_csv('PAISES_CONCAT_DISTINCT34.csv', header=True, index=False, encoding='utf-8-sig')\n",
    "PAISES_COVID35.to_csv('PAISES_CONCAT_DISTINCT35.csv', header=True, index=False, encoding='utf-8-sig')\n",
    "PAISES_COVID36.to_csv('PAISES_CONCAT_DISTINCT36.csv', header=True, index=False, encoding='utf-8-sig')\n",
    "PAISES_COVID37.to_csv('PAISES_CONCAT_DISTINCT37.csv', header=True, index=False, encoding='utf-8-sig')\n",
    "PAISES_COVID38.to_csv('PAISES_CONCAT_DISTINCT38.csv', header=True, index=False, encoding='utf-8-sig')\n",
    "PAISES_COVID39.to_csv('PAISES_CONCAT_DISTINCT39.csv', header=True, index=False, encoding='utf-8-sig')\n",
    "PAISES_COVID40.to_csv('PAISES_CONCAT_DISTINCT40.csv', header=True, index=False, encoding='utf-8-sig')\n",
    "PAISES_COVID41.to_csv('PAISES_CONCAT_DISTINCT41.csv', header=True, index=False, encoding='utf-8-sig')\n",
    "PAISES_COVID42.to_csv('PAISES_CONCAT_DISTINCT42.csv', header=True, index=False, encoding='utf-8-sig')\n",
    "PAISES_COVID43.to_csv('PAISES_CONCAT_DISTINCT43.csv', header=True, index=False, encoding='utf-8-sig')"
   ]
  },
  {
   "cell_type": "code",
   "execution_count": 4,
   "metadata": {},
   "outputs": [],
   "source": [
    "def extract_tweepy_tweet_info(row):\n",
    "    try:\n",
    "        tweet = api.get_status(row['Tweet_Id'])\n",
    "    except tweepy.TweepError as e:\n",
    "        return None\n",
    "        raise\n",
    "    return tweet.source  \n",
    "def extract_tweepy_tweet_user_info4(row):\n",
    "    try:\n",
    "        tweet = api.get_status(row['Tweet_Id'])\n",
    "    except tweepy.TweepError as e:\n",
    "        return None\n",
    "        raise\n",
    "    return tweet.lang\n",
    "def extract_tweepy_tweet_user_info(row):\n",
    "    try:\n",
    "        tweet = api.get_status(row['Tweet_Id'])\n",
    "    except tweepy.TweepError as e:\n",
    "        return None\n",
    "        raise\n",
    "    return tweet.user.statuses_count\n",
    "def extract_tweepy_user_info1(row):\n",
    "    try:\n",
    "        user = api.get_user(row['Tweet_User'])\n",
    "    except tweepy.TweepError as e:\n",
    "        return None\n",
    "        raise\n",
    "    return user.followers_count\n",
    "\n",
    "def extract_tweepy_user_info2(row):\n",
    "    user = api.get_user(row['Tweet_User'])\n",
    "    return user.verified\n",
    "\n",
    "def extract_tweepy_user_info3(row):\n",
    "    try:\n",
    "        user = api.get_user(row['Tweet_User'])\n",
    "    except tweepy.TweepError as e:\n",
    "        return None\n",
    "        raise\n",
    "    return user.location\n"
   ]
  },
  {
   "cell_type": "code",
   "execution_count": null,
   "metadata": {},
   "outputs": [],
   "source": [
    "PAISES_COVID1= pd.read_csv(r'C:\\Users\\jilli\\Desktop\\TFM\\PAISES_CONCAT_DISTINCT1.csv')\n",
    "PAISES_COVID1['Tweet_Source'] = PAISES_COVID1.apply(extract_tweepy_tweet_info,axis=1)\n",
    "PAISES_COVID1.to_csv('PAISES_COVID1_tweepy.csv', header=True, index=False, encoding='utf-8-sig')\n",
    "PAISES_COVID1['lang'] = PAISES_COVID1.apply(extract_tweepy_tweet_user_info4,axis=1)\n",
    "PAISES_COVID1.to_csv('PAISES_COVID1_tweepy.csv', header=True, index=False, encoding='utf-8-sig')"
   ]
  },
  {
   "cell_type": "code",
   "execution_count": null,
   "metadata": {},
   "outputs": [],
   "source": [
    "PAISES_COVID2= pd.read_csv(r'C:\\Users\\jilli\\Desktop\\TFM\\PAISES_CONCAT_DISTINCT2.csv')\n",
    "PAISES_COVID2['Tweet_Source'] = PAISES_COVID2.apply(extract_tweepy_tweet_info,axis=1)\n",
    "PAISES_COVID2.to_csv('PAISES_COVID2_tweepy.csv', header=True, index=False, encoding='utf-8-sig')\n",
    "PAISES_COVID2['lang'] = PAISES_COVID2.apply(extract_tweepy_tweet_user_info4,axis=1)\n",
    "PAISES_COVID2.to_csv('PAISES_COVID2_tweepy.csv', header=True, index=False, encoding='utf-8-sig')"
   ]
  },
  {
   "cell_type": "code",
   "execution_count": null,
   "metadata": {},
   "outputs": [],
   "source": [
    "PAISES_COVID3= pd.read_csv(r'C:\\Users\\jilli\\Desktop\\TFM\\PAISES_CONCAT_DISTINCT3.csv')\n",
    "PAISES_COVID3['Tweet_Source'] = PAISES_COVID3.apply(extract_tweepy_tweet_info,axis=1)\n",
    "PAISES_COVID3.to_csv('PAISES_COVID3_tweepy.csv', header=True, index=False, encoding='utf-8-sig')\n",
    "PAISES_COVID3['lang'] = PAISES_COVID3.apply(extract_tweepy_tweet_user_info4,axis=1)\n",
    "PAISES_COVID3.to_csv('PAISES_COVID3_tweepy.csv', header=True, index=False, encoding='utf-8-sig')"
   ]
  },
  {
   "cell_type": "code",
   "execution_count": null,
   "metadata": {},
   "outputs": [],
   "source": [
    "PAISES_COVID4= pd.read_csv(r'C:\\Users\\jilli\\Desktop\\TFM\\PAISES_CONCAT_DISTINCT4.csv')\n",
    "PAISES_COVID4['Tweet_Source'] = PAISES_COVID4.apply(extract_tweepy_tweet_info,axis=1)\n",
    "PAISES_COVID4.to_csv('PAISES_COVID4_tweepy.csv', header=True, index=False, encoding='utf-8-sig')\n",
    "PAISES_COVID4['lang'] = PAISES_COVID4.apply(extract_tweepy_tweet_user_info4,axis=1)\n",
    "PAISES_COVID4.to_csv('PAISES_COVID4_tweepy.csv', header=True, index=False, encoding='utf-8-sig')"
   ]
  },
  {
   "cell_type": "code",
   "execution_count": null,
   "metadata": {},
   "outputs": [],
   "source": [
    "PAISES_COVID5= pd.read_csv(r'C:\\Users\\jilli\\Desktop\\TFM\\PAISES_CONCAT_DISTINCT5.csv')\n",
    "PAISES_COVID5['Tweet_Source'] = PAISES_COVID5.apply(extract_tweepy_tweet_info,axis=1)\n",
    "PAISES_COVID5.to_csv('PAISES_COVID5_tweepy.csv', header=True, index=False, encoding='utf-8-sig')\n",
    "PAISES_COVID5['lang'] = PAISES_COVID5.apply(extract_tweepy_tweet_user_info4,axis=1)\n",
    "PAISES_COVID5.to_csv('PAISES_COVID5_tweepy.csv', header=True, index=False, encoding='utf-8-sig')"
   ]
  },
  {
   "cell_type": "code",
   "execution_count": null,
   "metadata": {},
   "outputs": [],
   "source": [
    "PAISES_COVID6= pd.read_csv(r'C:\\Users\\jilli\\Desktop\\TFM\\PAISES_CONCAT_DISTINCT6.csv')\n",
    "PAISES_COVID6['Tweet_Source'] = PAISES_COVID6.apply(extract_tweepy_tweet_info,axis=1)\n",
    "PAISES_COVID6.to_csv('PAISES_COVID6_tweepy.csv', header=True, index=False, encoding='utf-8-sig')\n",
    "PAISES_COVID6['lang'] = PAISES_COVID6.apply(extract_tweepy_tweet_user_info4,axis=1)\n",
    "PAISES_COVID6.to_csv('PAISES_COVID6_tweepy.csv', header=True, index=False, encoding='utf-8-sig')"
   ]
  },
  {
   "cell_type": "code",
   "execution_count": null,
   "metadata": {},
   "outputs": [],
   "source": [
    "PAISES_COVID7= pd.read_csv(r'C:\\Users\\jilli\\Desktop\\TFM\\PAISES_CONCAT_DISTINCT7.csv')\n",
    "PAISES_COVID7['Tweet_Source'] = PAISES_COVID7.apply(extract_tweepy_tweet_info,axis=1)\n",
    "PAISES_COVID7.to_csv('PAISES_COVID7_tweepy.csv', header=True, index=False, encoding='utf-8-sig')\n",
    "PAISES_COVID7['lang'] = PAISES_COVID7.apply(extract_tweepy_tweet_user_info4,axis=1)\n",
    "PAISES_COVID7.to_csv('PAISES_COVID7_tweepy.csv', header=True, index=False, encoding='utf-8-sig')"
   ]
  },
  {
   "cell_type": "code",
   "execution_count": null,
   "metadata": {},
   "outputs": [],
   "source": [
    "PAISES_COVID8= pd.read_csv(r'C:\\Users\\jilli\\Desktop\\TFM\\PAISES_CONCAT_DISTINCT8.csv')\n",
    "PAISES_COVID8['Tweet_Source'] = PAISES_COVID8.apply(extract_tweepy_tweet_info,axis=1)\n",
    "PAISES_COVID8.to_csv('PAISES_COVID8_tweepy.csv', header=True, index=False, encoding='utf-8-sig')\n",
    "PAISES_COVID8['lang'] = PAISES_COVID8.apply(extract_tweepy_tweet_user_info4,axis=1)\n",
    "PAISES_COVID8.to_csv('PAISES_COVID8_tweepy.csv', header=True, index=False, encoding='utf-8-sig')"
   ]
  },
  {
   "cell_type": "code",
   "execution_count": null,
   "metadata": {},
   "outputs": [],
   "source": [
    "PAISES_COVID9= pd.read_csv(r'C:\\Users\\jilli\\Desktop\\TFM\\PAISES_CONCAT_DISTINCT9.csv')\n",
    "PAISES_COVID9['Tweet_Source'] = PAISES_COVID9.apply(extract_tweepy_tweet_info,axis=1)\n",
    "PAISES_COVID9.to_csv('PAISES_COVID9_tweepy.csv', header=True, index=False, encoding='utf-8-sig')\n",
    "PAISES_COVID9['lang'] = PAISES_COVID9.apply(extract_tweepy_tweet_user_info4,axis=1)\n",
    "PAISES_COVID9.to_csv('PAISES_COVID9_tweepy.csv', header=True, index=False, encoding='utf-8-sig')"
   ]
  },
  {
   "cell_type": "code",
   "execution_count": null,
   "metadata": {},
   "outputs": [],
   "source": [
    "PAISES_COVID10= pd.read_csv(r'C:\\Users\\jilli\\Desktop\\TFM\\PAISES_CONCAT_DISTINCT10.csv')\n",
    "PAISES_COVID10['Tweet_Source'] = PAISES_COVID10.apply(extract_tweepy_tweet_info,axis=1)\n",
    "PAISES_COVID10.to_csv('PAISES_COVID10_tweepy.csv', header=True, index=False, encoding='utf-8-sig')\n",
    "PAISES_COVID10['lang'] = PAISES_COVID10.apply(extract_tweepy_tweet_user_info4,axis=1)\n",
    "PAISES_COVID10.to_csv('PAISES_COVID10_tweepy.csv', header=True, index=False, encoding='utf-8-sig')"
   ]
  },
  {
   "cell_type": "code",
   "execution_count": null,
   "metadata": {},
   "outputs": [],
   "source": [
    "PAISES_COVID11= pd.read_csv(r'C:\\Users\\jilli\\Desktop\\TFM\\PAISES_CONCAT_DISTINCT11.csv')\n",
    "PAISES_COVID11['Tweet_Source'] = PAISES_COVID11.apply(extract_tweepy_tweet_info,axis=1)\n",
    "PAISES_COVID11.to_csv('PAISES_COVID11_tweepy.csv', header=True, index=False, encoding='utf-8-sig')\n",
    "PAISES_COVID11['lang'] = PAISES_COVID11.apply(extract_tweepy_tweet_user_info4,axis=1)\n",
    "PAISES_COVID11.to_csv('PAISES_COVID11_tweepy.csv', header=True, index=False, encoding='utf-8-sig')"
   ]
  },
  {
   "cell_type": "code",
   "execution_count": null,
   "metadata": {},
   "outputs": [],
   "source": [
    "PAISES_COVID12= pd.read_csv(r'C:\\Users\\jilli\\Desktop\\TFM\\PAISES_CONCAT_DISTINCT12.csv')\n",
    "PAISES_COVID12['Tweet_Source'] = PAISES_COVID12.apply(extract_tweepy_tweet_info,axis=1)\n",
    "PAISES_COVID12.to_csv('PAISES_COVID12_tweepy.csv', header=True, index=False, encoding='utf-8-sig')\n",
    "PAISES_COVID12['lang'] = PAISES_COVID12.apply(extract_tweepy_tweet_user_info4,axis=1)\n",
    "PAISES_COVID12.to_csv('PAISES_COVID12_tweepy.csv', header=True, index=False, encoding='utf-8-sig')"
   ]
  },
  {
   "cell_type": "code",
   "execution_count": null,
   "metadata": {},
   "outputs": [],
   "source": [
    "PAISES_COVID13= pd.read_csv(r'C:\\Users\\jilli\\Desktop\\TFM\\PAISES_CONCAT_DISTINCT13.csv')\n",
    "PAISES_COVID13['Tweet_Source'] = PAISES_COVID13.apply(extract_tweepy_tweet_info,axis=1)\n",
    "PAISES_COVID13.to_csv('PAISES_COVID13_tweepy.csv', header=True, index=False, encoding='utf-8-sig')\n",
    "PAISES_COVID13['lang'] = PAISES_COVID13.apply(extract_tweepy_tweet_user_info4,axis=1)\n",
    "PAISES_COVID13.to_csv('PAISES_COVID13_tweepy.csv', header=True, index=False, encoding='utf-8-sig')"
   ]
  },
  {
   "cell_type": "code",
   "execution_count": null,
   "metadata": {},
   "outputs": [],
   "source": [
    "PAISES_COVID14= pd.read_csv(r'C:\\Users\\jilli\\Desktop\\TFM\\PAISES_CONCAT_DISTINCT14.csv')\n",
    "PAISES_COVID14['Tweet_Source'] = PAISES_COVID14.apply(extract_tweepy_tweet_info,axis=1)\n",
    "PAISES_COVID14.to_csv('PAISES_COVID14_tweepy.csv', header=True, index=False, encoding='utf-8-sig')\n",
    "PAISES_COVID14['lang'] = PAISES_COVID14.apply(extract_tweepy_tweet_user_info4,axis=1)\n",
    "PAISES_COVID14.to_csv('PAISES_COVID14_tweepy.csv', header=True, index=False, encoding='utf-8-sig')"
   ]
  },
  {
   "cell_type": "code",
   "execution_count": null,
   "metadata": {},
   "outputs": [],
   "source": [
    "PAISES_COVID15= pd.read_csv(r'C:\\Users\\jilli\\Desktop\\TFM\\PAISES_CONCAT_DISTINCT15.csv')\n",
    "PAISES_COVID15['Tweet_Source'] = PAISES_COVID15.apply(extract_tweepy_tweet_info,axis=1)\n",
    "PAISES_COVID15.to_csv('PAISES_COVID15_tweepy.csv', header=True, index=False, encoding='utf-8-sig')\n",
    "PAISES_COVID15['lang'] = PAISES_COVID15.apply(extract_tweepy_tweet_user_info4,axis=1)\n",
    "PAISES_COVID15.to_csv('PAISES_COVID15_tweepy.csv', header=True, index=False, encoding='utf-8-sig')"
   ]
  },
  {
   "cell_type": "code",
   "execution_count": null,
   "metadata": {},
   "outputs": [],
   "source": [
    "PAISES_COVID16= pd.read_csv(r'C:\\Users\\jilli\\Desktop\\TFM\\PAISES_CONCAT_DISTINCT16.csv')\n",
    "PAISES_COVID16['Tweet_Source'] = PAISES_COVID16.apply(extract_tweepy_tweet_info,axis=1)\n",
    "PAISES_COVID16.to_csv('PAISES_COVID16_tweepy.csv', header=True, index=False, encoding='utf-8-sig')\n",
    "PAISES_COVID16['lang'] = PAISES_COVID16.apply(extract_tweepy_tweet_user_info4,axis=1)\n",
    "PAISES_COVID16.to_csv('PAISES_COVID16_tweepy.csv', header=True, index=False, encoding='utf-8-sig')"
   ]
  },
  {
   "cell_type": "code",
   "execution_count": null,
   "metadata": {},
   "outputs": [],
   "source": [
    "PAISES_COVID17= pd.read_csv(r'C:\\Users\\jilli\\Desktop\\TFM\\PAISES_CONCAT_DISTINCT17.csv')\n",
    "PAISES_COVID17['Tweet_Source'] = PAISES_COVID17.apply(extract_tweepy_tweet_info,axis=1)\n",
    "PAISES_COVID17.to_csv('PAISES_COVID17_tweepy.csv', header=True, index=False, encoding='utf-8-sig')\n",
    "PAISES_COVID17['lang'] = PAISES_COVID17.apply(extract_tweepy_tweet_user_info4,axis=1)\n",
    "PAISES_COVID17.to_csv('PAISES_COVID17_tweepy.csv', header=True, index=False, encoding='utf-8-sig')"
   ]
  },
  {
   "cell_type": "code",
   "execution_count": null,
   "metadata": {},
   "outputs": [],
   "source": [
    "PAISES_COVID18= pd.read_csv(r'C:\\Users\\jilli\\Desktop\\TFM\\PAISES_CONCAT_DISTINCT18.csv')\n",
    "PAISES_COVID18['Tweet_Source'] = PAISES_COVID18.apply(extract_tweepy_tweet_info,axis=1)\n",
    "PAISES_COVID18.to_csv('PAISES_COVID18_tweepy.csv', header=True, index=False, encoding='utf-8-sig')\n",
    "PAISES_COVID18['lang'] = PAISES_COVID18.apply(extract_tweepy_tweet_user_info4,axis=1)\n",
    "PAISES_COVID18.to_csv('PAISES_COVID18_tweepy.csv', header=True, index=False, encoding='utf-8-sig')"
   ]
  },
  {
   "cell_type": "code",
   "execution_count": null,
   "metadata": {},
   "outputs": [],
   "source": [
    "PAISES_COVID19= pd.read_csv(r'C:\\Users\\jilli\\Desktop\\TFM\\PAISES_CONCAT_DISTINCT19.csv')\n",
    "PAISES_COVID19['Tweet_Source'] = PAISES_COVID19.apply(extract_tweepy_tweet_info,axis=1)\n",
    "PAISES_COVID19.to_csv('PAISES_COVID19_tweepy.csv', header=True, index=False, encoding='utf-8-sig')\n",
    "PAISES_COVID19['lang'] = PAISES_COVID19.apply(extract_tweepy_tweet_user_info4,axis=1)\n",
    "PAISES_COVID19.to_csv('PAISES_COVID19_tweepy.csv', header=True, index=False, encoding='utf-8-sig')"
   ]
  },
  {
   "cell_type": "code",
   "execution_count": null,
   "metadata": {},
   "outputs": [],
   "source": [
    "PAISES_COVID20= pd.read_csv(r'C:\\Users\\jilli\\Desktop\\TFM\\PAISES_CONCAT_DISTINCT20.csv')\n",
    "PAISES_COVID20['Tweet_Source'] = PAISES_COVID20.apply(extract_tweepy_tweet_info,axis=1)\n",
    "PAISES_COVID20.to_csv('PAISES_COVID20_tweepy.csv', header=True, index=False, encoding='utf-8-sig')\n",
    "PAISES_COVID20['lang'] = PAISES_COVID20.apply(extract_tweepy_tweet_user_info4,axis=1)\n",
    "PAISES_COVID20.to_csv('PAISES_COVID20_tweepy.csv', header=True, index=False, encoding='utf-8-sig')"
   ]
  },
  {
   "cell_type": "code",
   "execution_count": 8,
   "metadata": {},
   "outputs": [],
   "source": [
    "PAISES_COVID21['Tweet_Source'] = PAISES_COVID21.apply(extract_tweepy_tweet_info,axis=1)\n",
    "PAISES_COVID21.to_csv('PAISES_COVID21_tweepy.csv', header=True, index=False, encoding='utf-8-sig')\n",
    "PAISES_COVID21= pd.read_csv(r'C:\\Users\\jilli\\Desktop\\TFM\\PAISES_COVID21_tweepy.csv')\n",
    "PAISES_COVID21['lang'] = PAISES_COVID21.apply(extract_tweepy_tweet_user_info4,axis=1)\n",
    "PAISES_COVID21.to_csv('PAISES_COVID21_tweepy.csv', header=True, index=False, encoding='utf-8-sig')"
   ]
  },
  {
   "cell_type": "code",
   "execution_count": 9,
   "metadata": {},
   "outputs": [],
   "source": [
    "PAISES_COVID22= pd.read_csv(r'C:\\Users\\jilli\\Desktop\\TFM\\PAISES_CONCAT_DISTINCT22.csv')\n",
    "PAISES_COVID22['Tweet_Source'] = PAISES_COVID22.apply(extract_tweepy_tweet_info,axis=1)\n",
    "PAISES_COVID22.to_csv('PAISES_COVID22_tweepy.csv', header=True, index=False, encoding='utf-8-sig')\n",
    "PAISES_COVID22['lang'] = PAISES_COVID22.apply(extract_tweepy_tweet_user_info4,axis=1)\n",
    "PAISES_COVID22.to_csv('PAISES_COVID22_tweepy.csv', header=True, index=False, encoding='utf-8-sig')"
   ]
  },
  {
   "cell_type": "code",
   "execution_count": 10,
   "metadata": {},
   "outputs": [],
   "source": [
    "PAISES_COVID23= pd.read_csv(r'C:\\Users\\jilli\\Desktop\\TFM\\PAISES_CONCAT_DISTINCT23.csv')\n",
    "PAISES_COVID23['Tweet_Source'] = PAISES_COVID23.apply(extract_tweepy_tweet_info,axis=1)\n",
    "PAISES_COVID23.to_csv('PAISES_COVID23_tweepy.csv', header=True, index=False, encoding='utf-8-sig')\n",
    "PAISES_COVID23['lang'] = PAISES_COVID23.apply(extract_tweepy_tweet_user_info4,axis=1)\n",
    "PAISES_COVID23.to_csv('PAISES_COVID23_tweepy.csv', header=True, index=False, encoding='utf-8-sig')"
   ]
  },
  {
   "cell_type": "code",
   "execution_count": 11,
   "metadata": {},
   "outputs": [],
   "source": [
    "PAISES_COVID24= pd.read_csv(r'C:\\Users\\jilli\\Desktop\\TFM\\PAISES_CONCAT_DISTINCT24.csv')\n",
    "PAISES_COVID24['Tweet_Source'] = PAISES_COVID24.apply(extract_tweepy_tweet_info,axis=1)\n",
    "PAISES_COVID24.to_csv('PAISES_COVID24_tweepy.csv', header=True, index=False, encoding='utf-8-sig')\n",
    "PAISES_COVID24['lang'] = PAISES_COVID24.apply(extract_tweepy_tweet_user_info4,axis=1)\n",
    "PAISES_COVID24.to_csv('PAISES_COVID24_tweepy.csv', header=True, index=False, encoding='utf-8-sig')"
   ]
  },
  {
   "cell_type": "code",
   "execution_count": 12,
   "metadata": {},
   "outputs": [],
   "source": [
    "PAISES_COVID25= pd.read_csv(r'C:\\Users\\jilli\\Desktop\\TFM\\PAISES_CONCAT_DISTINCT25.csv')\n",
    "PAISES_COVID25['Tweet_Source'] = PAISES_COVID25.apply(extract_tweepy_tweet_info,axis=1)\n",
    "PAISES_COVID25.to_csv('PAISES_COVID25_tweepy.csv', header=True, index=False, encoding='utf-8-sig')\n",
    "PAISES_COVID25['lang'] = PAISES_COVID25.apply(extract_tweepy_tweet_user_info4,axis=1)\n",
    "PAISES_COVID25.to_csv('PAISES_COVID25_tweepy.csv', header=True, index=False, encoding='utf-8-sig')"
   ]
  },
  {
   "cell_type": "code",
   "execution_count": 13,
   "metadata": {},
   "outputs": [],
   "source": [
    "PAISES_COVID26= pd.read_csv(r'C:\\Users\\jilli\\Desktop\\TFM\\PAISES_CONCAT_DISTINCT26.csv')\n",
    "PAISES_COVID26['Tweet_Source'] = PAISES_COVID26.apply(extract_tweepy_tweet_info,axis=1)\n",
    "PAISES_COVID26.to_csv('PAISES_COVID26_tweepy.csv', header=True, index=False, encoding='utf-8-sig')\n",
    "PAISES_COVID26['lang'] = PAISES_COVID26.apply(extract_tweepy_tweet_user_info4,axis=1)\n",
    "PAISES_COVID26.to_csv('PAISES_COVID26_tweepy.csv', header=True, index=False, encoding='utf-8-sig')"
   ]
  },
  {
   "cell_type": "code",
   "execution_count": 14,
   "metadata": {},
   "outputs": [],
   "source": [
    "PAISES_COVID27= pd.read_csv(r'C:\\Users\\jilli\\Desktop\\TFM\\PAISES_CONCAT_DISTINCT27.csv')\n",
    "PAISES_COVID27['Tweet_Source'] = PAISES_COVID27.apply(extract_tweepy_tweet_info,axis=1)\n",
    "PAISES_COVID27.to_csv('PAISES_COVID27_tweepy.csv', header=True, index=False, encoding='utf-8-sig')\n",
    "PAISES_COVID27['lang'] = PAISES_COVID27.apply(extract_tweepy_tweet_user_info4,axis=1)\n",
    "PAISES_COVID27.to_csv('PAISES_COVID27_tweepy.csv', header=True, index=False, encoding='utf-8-sig')"
   ]
  },
  {
   "cell_type": "code",
   "execution_count": 4,
   "metadata": {},
   "outputs": [],
   "source": [
    "PAISES_COVID28= pd.read_csv(r'C:\\Users\\jilli\\Desktop\\TFM\\PAISES_CONCAT_DISTINCT28.csv')\n",
    "PAISES_COVID28['Tweet_Source'] = PAISES_COVID28.apply(extract_tweepy_tweet_info,axis=1)\n",
    "PAISES_COVID28.to_csv('PAISES_COVID28_tweepy.csv', header=True, index=False, encoding='utf-8-sig')\n",
    "PAISES_COVID28['lang'] = PAISES_COVID28.apply(extract_tweepy_tweet_user_info4,axis=1)\n",
    "PAISES_COVID28.to_csv('PAISES_COVID28_tweepy.csv', header=True, index=False, encoding='utf-8-sig')"
   ]
  },
  {
   "cell_type": "code",
   "execution_count": 5,
   "metadata": {},
   "outputs": [],
   "source": [
    "PAISES_COVID29= pd.read_csv(r'C:\\Users\\jilli\\Desktop\\TFM\\PAISES_CONCAT_DISTINCT29.csv')\n",
    "PAISES_COVID29['Tweet_Source'] = PAISES_COVID29.apply(extract_tweepy_tweet_info,axis=1)\n",
    "PAISES_COVID29.to_csv('PAISES_COVID29_tweepy.csv', header=True, index=False, encoding='utf-8-sig')\n",
    "PAISES_COVID29['lang'] = PAISES_COVID29.apply(extract_tweepy_tweet_user_info4,axis=1)\n",
    "PAISES_COVID29.to_csv('PAISES_COVID29_tweepy.csv', header=True, index=False, encoding='utf-8-sig')"
   ]
  },
  {
   "cell_type": "code",
   "execution_count": 6,
   "metadata": {},
   "outputs": [],
   "source": [
    "PAISES_COVID30= pd.read_csv(r'C:\\Users\\jilli\\Desktop\\TFM\\PAISES_CONCAT_DISTINCT30.csv')\n",
    "PAISES_COVID30['Tweet_Source'] = PAISES_COVID30.apply(extract_tweepy_tweet_info,axis=1)\n",
    "PAISES_COVID30.to_csv('PAISES_COVID30_tweepy.csv', header=True, index=False, encoding='utf-8-sig')\n",
    "PAISES_COVID30['lang'] = PAISES_COVID30.apply(extract_tweepy_tweet_user_info4,axis=1)\n",
    "PAISES_COVID30.to_csv('PAISES_COVID30_tweepy.csv', header=True, index=False, encoding='utf-8-sig')"
   ]
  },
  {
   "cell_type": "code",
   "execution_count": 7,
   "metadata": {},
   "outputs": [],
   "source": [
    "PAISES_COVID31= pd.read_csv(r'C:\\Users\\jilli\\Desktop\\TFM\\PAISES_CONCAT_DISTINCT31.csv')\n",
    "PAISES_COVID31['Tweet_Source'] = PAISES_COVID31.apply(extract_tweepy_tweet_info,axis=1)\n",
    "PAISES_COVID31.to_csv('PAISES_COVID31_tweepy.csv', header=True, index=False, encoding='utf-8-sig')\n",
    "PAISES_COVID31['lang'] = PAISES_COVID31.apply(extract_tweepy_tweet_user_info4,axis=1)\n",
    "PAISES_COVID31.to_csv('PAISES_COVID31_tweepy.csv', header=True, index=False, encoding='utf-8-sig')"
   ]
  },
  {
   "cell_type": "code",
   "execution_count": 8,
   "metadata": {},
   "outputs": [],
   "source": [
    "PAISES_COVID32= pd.read_csv(r'C:\\Users\\jilli\\Desktop\\TFM\\PAISES_CONCAT_DISTINCT32.csv')\n",
    "PAISES_COVID32['Tweet_Source'] = PAISES_COVID32.apply(extract_tweepy_tweet_info,axis=1)\n",
    "PAISES_COVID32.to_csv('PAISES_COVID32_tweepy.csv', header=True, index=False, encoding='utf-8-sig')\n",
    "PAISES_COVID32['lang'] = PAISES_COVID32.apply(extract_tweepy_tweet_user_info4,axis=1)\n",
    "PAISES_COVID32.to_csv('PAISES_COVID32_tweepy.csv', header=True, index=False, encoding='utf-8-sig')"
   ]
  },
  {
   "cell_type": "code",
   "execution_count": 8,
   "metadata": {},
   "outputs": [],
   "source": [
    "PAISES_COVID33= pd.read_csv(r'C:\\Users\\jilli\\Desktop\\TFM\\PAISES_CONCAT_DISTINCT33.csv')\n",
    "PAISES_COVID33['Tweet_Source'] = PAISES_COVID33.apply(extract_tweepy_tweet_info,axis=1)\n",
    "PAISES_COVID33.to_csv('PAISES_COVID33_tweepy.csv', header=True, index=False, encoding='utf-8-sig')\n",
    "PAISES_COVID33['lang'] = PAISES_COVID33.apply(extract_tweepy_tweet_user_info4,axis=1)\n",
    "PAISES_COVID33.to_csv('PAISES_COVID33_tweepy.csv', header=True, index=False, encoding='utf-8-sig')"
   ]
  },
  {
   "cell_type": "code",
   "execution_count": 8,
   "metadata": {},
   "outputs": [],
   "source": [
    "PAISES_COVID34= pd.read_csv(r'C:\\Users\\jilli\\Desktop\\TFM\\PAISES_CONCAT_DISTINCT34.csv')\n",
    "PAISES_COVID34['Tweet_Source'] = PAISES_COVID34.apply(extract_tweepy_tweet_info,axis=1)\n",
    "PAISES_COVID34.to_csv('PAISES_COVID34_tweepy.csv', header=True, index=False, encoding='utf-8-sig')\n",
    "PAISES_COVID34['lang'] = PAISES_COVID34.apply(extract_tweepy_tweet_user_info4,axis=1)\n",
    "PAISES_COVID34.to_csv('PAISES_COVID34_tweepy.csv', header=True, index=False, encoding='utf-8-sig')"
   ]
  },
  {
   "cell_type": "code",
   "execution_count": 8,
   "metadata": {},
   "outputs": [],
   "source": [
    "PAISES_COVID35= pd.read_csv(r'C:\\Users\\jilli\\Desktop\\TFM\\PAISES_CONCAT_DISTINCT35.csv')\n",
    "PAISES_COVID35['Tweet_Source'] = PAISES_COVID35.apply(extract_tweepy_tweet_info,axis=1)\n",
    "PAISES_COVID35.to_csv('PAISES_COVID35_tweepy.csv', header=True, index=False, encoding='utf-8-sig')\n",
    "PAISES_COVID35['lang'] = PAISES_COVID35.apply(extract_tweepy_tweet_user_info4,axis=1)\n",
    "PAISES_COVID35.to_csv('PAISES_COVID35_tweepy.csv', header=True, index=False, encoding='utf-8-sig')"
   ]
  },
  {
   "cell_type": "code",
   "execution_count": 8,
   "metadata": {},
   "outputs": [],
   "source": [
    "PAISES_COVID36= pd.read_csv(r'C:\\Users\\jilli\\Desktop\\TFM\\PAISES_CONCAT_DISTINCT36.csv')\n",
    "PAISES_COVID36['Tweet_Source'] = PAISES_COVID36.apply(extract_tweepy_tweet_info,axis=1)\n",
    "PAISES_COVID36.to_csv('PAISES_COVID36_tweepy.csv', header=True, index=False, encoding='utf-8-sig')\n",
    "PAISES_COVID36['lang'] = PAISES_COVID36.apply(extract_tweepy_tweet_user_info4,axis=1)\n",
    "PAISES_COVID36.to_csv('PAISES_COVID36_tweepy.csv', header=True, index=False, encoding='utf-8-sig')"
   ]
  },
  {
   "cell_type": "code",
   "execution_count": 8,
   "metadata": {},
   "outputs": [],
   "source": [
    "PAISES_COVID37= pd.read_csv(r'C:\\Users\\jilli\\Desktop\\TFM\\PAISES_CONCAT_DISTINCT37.csv')\n",
    "PAISES_COVID37['Tweet_Source'] = PAISES_COVID37.apply(extract_tweepy_tweet_info,axis=1)\n",
    "PAISES_COVID37.to_csv('PAISES_COVID37_tweepy.csv', header=True, index=False, encoding='utf-8-sig')\n",
    "PAISES_COVID37['lang'] = PAISES_COVID37.apply(extract_tweepy_tweet_user_info4,axis=1)\n",
    "PAISES_COVID37.to_csv('PAISES_COVID37_tweepy.csv', header=True, index=False, encoding='utf-8-sig')"
   ]
  },
  {
   "cell_type": "code",
   "execution_count": 8,
   "metadata": {},
   "outputs": [],
   "source": [
    "PAISES_COVID38= pd.read_csv(r'C:\\Users\\jilli\\Desktop\\TFM\\PAISES_CONCAT_DISTINCT38.csv')\n",
    "PAISES_COVID38['Tweet_Source'] = PAISES_COVID38.apply(extract_tweepy_tweet_info,axis=1)\n",
    "PAISES_COVID38.to_csv('PAISES_COVID38_tweepy.csv', header=True, index=False, encoding='utf-8-sig')\n",
    "PAISES_COVID38['lang'] = PAISES_COVID38.apply(extract_tweepy_tweet_user_info4,axis=1)\n",
    "PAISES_COVID38.to_csv('PAISES_COVID38_tweepy.csv', header=True, index=False, encoding='utf-8-sig')"
   ]
  },
  {
   "cell_type": "code",
   "execution_count": 8,
   "metadata": {},
   "outputs": [],
   "source": [
    "PAISES_COVID39= pd.read_csv(r'C:\\Users\\jilli\\Desktop\\TFM\\PAISES_CONCAT_DISTINCT39.csv')\n",
    "PAISES_COVID39['Tweet_Source'] = PAISES_COVID39.apply(extract_tweepy_tweet_info,axis=1)\n",
    "PAISES_COVID39.to_csv('PAISES_COVID39_tweepy.csv', header=True, index=False, encoding='utf-8-sig')\n",
    "PAISES_COVID39['lang'] = PAISES_COVID39.apply(extract_tweepy_tweet_user_info4,axis=1)\n",
    "PAISES_COVID39.to_csv('PAISES_COVID39_tweepy.csv', header=True, index=False, encoding='utf-8-sig')"
   ]
  },
  {
   "cell_type": "code",
   "execution_count": 8,
   "metadata": {},
   "outputs": [],
   "source": [
    "PAISES_COVID40= pd.read_csv(r'C:\\Users\\jilli\\Desktop\\TFM\\PAISES_CONCAT_DISTINCT40.csv')\n",
    "PAISES_COVID40['Tweet_Source'] = PAISES_COVID40.apply(extract_tweepy_tweet_info,axis=1)\n",
    "PAISES_COVID40.to_csv('PAISES_COVID40_tweepy.csv', header=True, index=False, encoding='utf-8-sig')\n",
    "PAISES_COVID40['lang'] = PAISES_COVID40.apply(extract_tweepy_tweet_user_info4,axis=1)\n",
    "PAISES_COVID40.to_csv('PAISES_COVID40_tweepy.csv', header=True, index=False, encoding='utf-8-sig')"
   ]
  },
  {
   "cell_type": "code",
   "execution_count": 8,
   "metadata": {},
   "outputs": [],
   "source": [
    "PAISES_COVID41= pd.read_csv(r'C:\\Users\\jilli\\Desktop\\TFM\\PAISES_CONCAT_DISTINCT41.csv')\n",
    "PAISES_COVID41['Tweet_Source'] = PAISES_COVID41.apply(extract_tweepy_tweet_info,axis=1)\n",
    "PAISES_COVID41.to_csv('PAISES_COVID41_tweepy.csv', header=True, index=False, encoding='utf-8-sig')\n",
    "PAISES_COVID41['lang'] = PAISES_COVID41.apply(extract_tweepy_tweet_user_info4,axis=1)\n",
    "PAISES_COVID41.to_csv('PAISES_COVID41_tweepy.csv', header=True, index=False, encoding='utf-8-sig')"
   ]
  },
  {
   "cell_type": "code",
   "execution_count": 8,
   "metadata": {},
   "outputs": [],
   "source": [
    "PAISES_COVID42= pd.read_csv(r'C:\\Users\\jilli\\Desktop\\TFM\\PAISES_CONCAT_DISTINCT42.csv')\n",
    "PAISES_COVID42['Tweet_Source'] = PAISES_COVID42.apply(extract_tweepy_tweet_info,axis=1)\n",
    "PAISES_COVID42.to_csv('PAISES_COVID42_tweepy.csv', header=True, index=False, encoding='utf-8-sig')\n",
    "PAISES_COVID42['lang'] = PAISES_COVID42.apply(extract_tweepy_tweet_user_info4,axis=1)\n",
    "PAISES_COVID42.to_csv('PAISES_COVID42_tweepy.csv', header=True, index=False, encoding='utf-8-sig')"
   ]
  },
  {
   "cell_type": "code",
   "execution_count": 8,
   "metadata": {},
   "outputs": [],
   "source": [
    "PAISES_COVID43= pd.read_csv(r'C:\\Users\\jilli\\Desktop\\TFM\\PAISES_CONCAT_DISTINCT43.csv')\n",
    "PAISES_COVID43['Tweet_Source'] = PAISES_COVID43.apply(extract_tweepy_tweet_info,axis=1)\n",
    "PAISES_COVID43.to_csv('PAISES_COVID43_tweepy.csv', header=True, index=False, encoding='utf-8-sig')\n",
    "PAISES_COVID43['lang'] = PAISES_COVID43.apply(extract_tweepy_tweet_user_info4,axis=1)\n",
    "PAISES_COVID43.to_csv('PAISES_COVID43_tweepy.csv', header=True, index=False, encoding='utf-8-sig')"
   ]
  }
 ],
 "metadata": {
  "kernelspec": {
   "display_name": "Python 3",
   "language": "python",
   "name": "python3"
  },
  "language_info": {
   "codemirror_mode": {
    "name": "ipython",
    "version": 3
   },
   "file_extension": ".py",
   "mimetype": "text/x-python",
   "name": "python",
   "nbconvert_exporter": "python",
   "pygments_lexer": "ipython3",
   "version": "3.7.4"
  }
 },
 "nbformat": 4,
 "nbformat_minor": 4
}
