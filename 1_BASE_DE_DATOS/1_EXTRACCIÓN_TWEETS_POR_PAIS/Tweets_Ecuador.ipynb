{
 "cells": [
  {
   "cell_type": "markdown",
   "metadata": {},
   "source": [
    "## EXTRACCIÓN DE TWEETS DE ECUADOR"
   ]
  },
  {
   "cell_type": "markdown",
   "metadata": {},
   "source": [
    "### 1. Cargar librerías paquetes "
   ]
  },
  {
   "cell_type": "code",
   "execution_count": null,
   "metadata": {},
   "outputs": [],
   "source": [
    "#ECUADOR\n",
    "#import tweepy \n",
    "import pandas as pd\n",
    "import numpy as np\n",
    "import GetOldTweets3 as got\n",
    "import time\n",
    "from IPython.display import display\n",
    "import matplotlib.pyplot as plt\n",
    "import seaborn as sns\n",
    "#from credentials import *"
   ]
  },
  {
   "cell_type": "markdown",
   "metadata": {},
   "source": [
    "### 2. Extraer datos"
   ]
  },
  {
   "cell_type": "code",
   "execution_count": null,
   "metadata": {},
   "outputs": [],
   "source": [
    "geocode = \"-0.246570,-78.439019\"\n",
    "km = \"29.55350km\"\n",
    "text_query = 'covid OR coronavirus OR pandemia OR cuarentena'\n",
    "since_date = \"2020-1-01\"\n",
    "until_date = \"2020-9-01\"\n",
    "count = 2500000\n",
    "tweetCriteria = got.manager.TweetCriteria().setQuerySearch(text_query).setNear(geocode).setWithin(km).setSince(since_date).setUntil(until_date).setMaxTweets(count).setEmoji(\"unicode\")\n",
    "tweets = got.manager.TweetManager.getTweets(tweetCriteria)\n",
    "tweets_list = [[tweet.id, tweet.author_id, tweet.username, tweet.text, tweet.retweets, tweet.favorites, tweet.replies, tweet.date] for tweet in tweets]\n",
    "tweets_ecuador1 = pd.DataFrame(tweets_list, columns = ['Tweet_Id', 'Tweet_User_Id', 'Tweet_User', 'Text','Retweets', 'Favorites', 'Replies', 'Datetime', 'hashtags'])\n",
    "tweets_ecuador1.to_csv('covid_ecu_emoji_1.csv', header=True, index=False, encoding='utf-8-sig')"
   ]
  },
  {
   "cell_type": "code",
   "execution_count": null,
   "metadata": {},
   "outputs": [],
   "source": [
    "tweets_ecuador1"
   ]
  },
  {
   "cell_type": "code",
   "execution_count": null,
   "metadata": {},
   "outputs": [],
   "source": [
    "geocode = \"0.063111,-78.497934\"\n",
    "km = \"22.21557km\"\n",
    "tweetCriteria = got.manager.TweetCriteria().setQuerySearch(text_query).setNear(geocode).setWithin(km).setSince(since_date).setUntil(until_date).setMaxTweets(count).setEmoji(\"unicode\")\n",
    "tweets = got.manager.TweetManager.getTweets(tweetCriteria)\n",
    "tweets_list = [[tweet.id, tweet.author_id, tweet.username, tweet.text, tweet.retweets, tweet.favorites, tweet.replies, tweet.date] for tweet in tweets]\n",
    "tweets_ecuador2 = pd.DataFrame(tweets_list, columns = ['Tweet_Id', 'Tweet_User_Id', 'Tweet_User', 'Text','Retweets', 'Favorites', 'Replies', 'Datetime', 'hashtags'])\n",
    "tweets_ecuador2.to_csv('covid_ecu_emoji_2.csv', header=True, index=False, encoding='utf-8-sig')"
   ]
  },
  {
   "cell_type": "code",
   "execution_count": null,
   "metadata": {},
   "outputs": [],
   "source": [
    "tweets_ecuador2"
   ]
  },
  {
   "cell_type": "code",
   "execution_count": null,
   "metadata": {},
   "outputs": [],
   "source": [
    "geocode = \"-0.086501,-78.764031\"\n",
    "km = \"12.54272km\"\n",
    "tweetCriteria = got.manager.TweetCriteria().setQuerySearch(text_query).setNear(geocode).setWithin(km).setSince(since_date).setUntil(until_date).setMaxTweets(count).setEmoji(\"unicode\")\n",
    "tweets = got.manager.TweetManager.getTweets(tweetCriteria)\n",
    "tweets_list = [[tweet.id, tweet.author_id, tweet.username, tweet.text, tweet.retweets, tweet.favorites, tweet.replies, tweet.date] for tweet in tweets]\n",
    "tweets_ecuador3 = pd.DataFrame(tweets_list, columns = ['Tweet_Id', 'Tweet_User_Id', 'Tweet_User', 'Text','Retweets', 'Favorites', 'Replies', 'Datetime', 'hashtags'])\n",
    "tweets_ecuador3.to_csv('covid_ecu_emoji_3.csv', header=True, index=False, encoding='utf-8-sig')"
   ]
  },
  {
   "cell_type": "code",
   "execution_count": null,
   "metadata": {},
   "outputs": [],
   "source": [
    "tweets_ecuador3"
   ]
  },
  {
   "cell_type": "code",
   "execution_count": null,
   "metadata": {},
   "outputs": [],
   "source": [
    "geocode = \"0.132097,-78.710763\"\n",
    "km = \"10.84777km\"\n",
    "tweetCriteria = got.manager.TweetCriteria().setQuerySearch(text_query).setNear(geocode).setWithin(km).setSince(since_date).setUntil(until_date).setMaxTweets(count).setEmoji(\"unicode\")\n",
    "tweets = got.manager.TweetManager.getTweets(tweetCriteria)\n",
    "tweets_list = [[tweet.id, tweet.author_id, tweet.username, tweet.text, tweet.retweets, tweet.favorites, tweet.replies, tweet.date] for tweet in tweets]\n",
    "tweets_ecuador4 = pd.DataFrame(tweets_list, columns = ['Tweet_Id', 'Tweet_User_Id', 'Tweet_User', 'Text','Retweets', 'Favorites', 'Replies', 'Datetime', 'hashtags'])\n",
    "tweets_ecuador4.to_csv('covid_ecu_emoji_4.csv', header=True, index=False, encoding='utf-8-sig')"
   ]
  },
  {
   "cell_type": "code",
   "execution_count": null,
   "metadata": {},
   "outputs": [],
   "source": [
    "tweets_ecuador4"
   ]
  },
  {
   "cell_type": "code",
   "execution_count": null,
   "metadata": {},
   "outputs": [],
   "source": [
    "geocode = \"0.182006,-78.840550\"\n",
    "km = \"5.77249km\"\n",
    "tweetCriteria = got.manager.TweetCriteria().setQuerySearch(text_query).setNear(geocode).setWithin(km).setSince(since_date).setUntil(until_date).setMaxTweets(count).setEmoji(\"unicode\")\n",
    "tweets = got.manager.TweetManager.getTweets(tweetCriteria)\n",
    "tweets_list = [[tweet.id, tweet.author_id, tweet.username, tweet.text, tweet.retweets, tweet.favorites, tweet.replies, tweet.date] for tweet in tweets]\n",
    "tweets_ecuador5 = pd.DataFrame(tweets_list, columns = ['Tweet_Id', 'Tweet_User_Id', 'Tweet_User', 'Text','Retweets', 'Favorites', 'Replies', 'Datetime', 'hashtags'])\n",
    "tweets_ecuador5.to_csv('covid_ecu_emoji_5.csv', header=True, index=False, encoding='utf-8-sig')"
   ]
  },
  {
   "cell_type": "markdown",
   "metadata": {},
   "source": [
    "### 3. Se guarda la base"
   ]
  },
  {
   "cell_type": "markdown",
   "metadata": {},
   "source": [
    "Se juntan las bases"
   ]
  },
  {
   "cell_type": "code",
   "execution_count": null,
   "metadata": {},
   "outputs": [],
   "source": [
    "ECUADOR_CONCAT = pd.concat([tweets_ecuador1,tweets_ecuador2,tweets_ecuador3,tweets_ecuador4,tweets_ecuador5])\n",
    "ECUADOR_CONCAT.shape"
   ]
  },
  {
   "cell_type": "markdown",
   "metadata": {},
   "source": [
    "Se eliminan duplicados"
   ]
  },
  {
   "cell_type": "code",
   "execution_count": 70,
   "metadata": {},
   "outputs": [],
   "source": [
    "ECUADOR_CONCAT_DISTINCT= ECUADOR_CONCAT.drop_duplicates()"
   ]
  },
  {
   "cell_type": "code",
   "execution_count": 71,
   "metadata": {},
   "outputs": [],
   "source": [
    "ECUADOR_CONCAT_DISTINCT.reset_index(drop=True, inplace=True)"
   ]
  },
  {
   "cell_type": "code",
   "execution_count": 73,
   "metadata": {},
   "outputs": [],
   "source": [
    "ECUADOR_CONCAT_DISTINCT.to_csv('ECUADOR_CONCAT_DISTINCT.csv', header=True, index=False, encoding='utf-8-sig')"
   ]
  },
  {
   "cell_type": "markdown",
   "metadata": {},
   "source": [
    "Se agrega columna de país con la etiqueta \"Ecu\" de Ecuador"
   ]
  },
  {
   "cell_type": "code",
   "execution_count": 74,
   "metadata": {},
   "outputs": [
    {
     "name": "stderr",
     "output_type": "stream",
     "text": [
      "C:\\Users\\Pilar Villena\\Anaconda3\\lib\\site-packages\\ipykernel_launcher.py:1: SettingWithCopyWarning: \n",
      "A value is trying to be set on a copy of a slice from a DataFrame.\n",
      "Try using .loc[row_indexer,col_indexer] = value instead\n",
      "\n",
      "See the caveats in the documentation: http://pandas.pydata.org/pandas-docs/stable/user_guide/indexing.html#returning-a-view-versus-a-copy\n",
      "  \"\"\"Entry point for launching an IPython kernel.\n"
     ]
    }
   ],
   "source": [
    "ECUADOR_CONCAT_DISTINCT['Pais'] = 'Ecu'"
   ]
  },
  {
   "cell_type": "code",
   "execution_count": 75,
   "metadata": {},
   "outputs": [
    {
     "data": {
      "text/html": [
       "<div>\n",
       "<style scoped>\n",
       "    .dataframe tbody tr th:only-of-type {\n",
       "        vertical-align: middle;\n",
       "    }\n",
       "\n",
       "    .dataframe tbody tr th {\n",
       "        vertical-align: top;\n",
       "    }\n",
       "\n",
       "    .dataframe thead th {\n",
       "        text-align: right;\n",
       "    }\n",
       "</style>\n",
       "<table border=\"1\" class=\"dataframe\">\n",
       "  <thead>\n",
       "    <tr style=\"text-align: right;\">\n",
       "      <th></th>\n",
       "      <th>Tweet_Id</th>\n",
       "      <th>Tweet_User_Id</th>\n",
       "      <th>Tweet_User</th>\n",
       "      <th>Text</th>\n",
       "      <th>Retweets</th>\n",
       "      <th>Favorites</th>\n",
       "      <th>Replies</th>\n",
       "      <th>Datetime</th>\n",
       "      <th>hashtags</th>\n",
       "      <th>Pais</th>\n",
       "    </tr>\n",
       "  </thead>\n",
       "  <tbody>\n",
       "    <tr>\n",
       "      <td>0</td>\n",
       "      <td>1300465503564173313</td>\n",
       "      <td>480666205</td>\n",
       "      <td>DrPasm</td>\n",
       "      <td>El antes y el durante la pandemia comunista ch...</td>\n",
       "      <td>0</td>\n",
       "      <td>0</td>\n",
       "      <td>0</td>\n",
       "      <td>2020-08-31 16:08:32+00:00</td>\n",
       "      <td></td>\n",
       "      <td>Col</td>\n",
       "    </tr>\n",
       "    <tr>\n",
       "      <td>1</td>\n",
       "      <td>1300264361466920960</td>\n",
       "      <td>85148912</td>\n",
       "      <td>jocaritomb</td>\n",
       "      <td>Día 166 #cuarentena ... Ya sé que se acabó, qu...</td>\n",
       "      <td>0</td>\n",
       "      <td>0</td>\n",
       "      <td>0</td>\n",
       "      <td>2020-08-31 02:49:16+00:00</td>\n",
       "      <td>#cuarentena</td>\n",
       "      <td>Col</td>\n",
       "    </tr>\n",
       "    <tr>\n",
       "      <td>2</td>\n",
       "      <td>1300185866871042048</td>\n",
       "      <td>170478394</td>\n",
       "      <td>diegob1946</td>\n",
       "      <td>Simplemente irresistible 🍓🍇🍒 . . #postres #ant...</td>\n",
       "      <td>0</td>\n",
       "      <td>0</td>\n",
       "      <td>0</td>\n",
       "      <td>2020-08-30 21:37:21+00:00</td>\n",
       "      <td>#postres #antojo #detalles #domicilio #takeawa...</td>\n",
       "      <td>Col</td>\n",
       "    </tr>\n",
       "    <tr>\n",
       "      <td>3</td>\n",
       "      <td>1299935511801458693</td>\n",
       "      <td>1252327240731365381</td>\n",
       "      <td>MesaLGBTIusaque</td>\n",
       "      <td>Seguimos cuidandonos solo por emergencia podem...</td>\n",
       "      <td>0</td>\n",
       "      <td>0</td>\n",
       "      <td>0</td>\n",
       "      <td>2020-08-30 05:02:32+00:00</td>\n",
       "      <td>#reactivaci #pandemia #bioseguridad #contagio ...</td>\n",
       "      <td>Col</td>\n",
       "    </tr>\n",
       "    <tr>\n",
       "      <td>4</td>\n",
       "      <td>1299892408465993728</td>\n",
       "      <td>85148912</td>\n",
       "      <td>jocaritomb</td>\n",
       "      <td>Día 165 #cuarentena ... Más despeinada de lo n...</td>\n",
       "      <td>0</td>\n",
       "      <td>0</td>\n",
       "      <td>0</td>\n",
       "      <td>2020-08-30 02:11:15+00:00</td>\n",
       "      <td>#cuarentena</td>\n",
       "      <td>Col</td>\n",
       "    </tr>\n",
       "    <tr>\n",
       "      <td>...</td>\n",
       "      <td>...</td>\n",
       "      <td>...</td>\n",
       "      <td>...</td>\n",
       "      <td>...</td>\n",
       "      <td>...</td>\n",
       "      <td>...</td>\n",
       "      <td>...</td>\n",
       "      <td>...</td>\n",
       "      <td>...</td>\n",
       "      <td>...</td>\n",
       "    </tr>\n",
       "    <tr>\n",
       "      <td>97082</td>\n",
       "      <td>1241224027991048199</td>\n",
       "      <td>1230551625531416579</td>\n",
       "      <td>cabreracundi</td>\n",
       "      <td>La alcaldía de Cabrera Cundinamarca está de ac...</td>\n",
       "      <td>0</td>\n",
       "      <td>0</td>\n",
       "      <td>0</td>\n",
       "      <td>2020-03-21 04:44:03+00:00</td>\n",
       "      <td></td>\n",
       "      <td>Col</td>\n",
       "    </tr>\n",
       "    <tr>\n",
       "      <td>97083</td>\n",
       "      <td>1240687422855245824</td>\n",
       "      <td>1230551625531416579</td>\n",
       "      <td>cabreracundi</td>\n",
       "      <td>La administración municipal hace un llamado a ...</td>\n",
       "      <td>0</td>\n",
       "      <td>0</td>\n",
       "      <td>0</td>\n",
       "      <td>2020-03-19 17:11:47+00:00</td>\n",
       "      <td></td>\n",
       "      <td>Col</td>\n",
       "    </tr>\n",
       "    <tr>\n",
       "      <td>97084</td>\n",
       "      <td>1238643382936797184</td>\n",
       "      <td>1230551625531416579</td>\n",
       "      <td>cabreracundi</td>\n",
       "      <td>La administración municipal invita a toda la c...</td>\n",
       "      <td>0</td>\n",
       "      <td>0</td>\n",
       "      <td>0</td>\n",
       "      <td>2020-03-14 01:49:30+00:00</td>\n",
       "      <td>#Coronavirus</td>\n",
       "      <td>Col</td>\n",
       "    </tr>\n",
       "    <tr>\n",
       "      <td>97085</td>\n",
       "      <td>1267878146688368642</td>\n",
       "      <td>1230551625531416579</td>\n",
       "      <td>cabreracundi</td>\n",
       "      <td>Primeros Casos COVID-19 Cabrera Cundinamarca</td>\n",
       "      <td>2</td>\n",
       "      <td>6</td>\n",
       "      <td>1</td>\n",
       "      <td>2020-06-02 17:58:00+00:00</td>\n",
       "      <td></td>\n",
       "      <td>Col</td>\n",
       "    </tr>\n",
       "    <tr>\n",
       "      <td>97086</td>\n",
       "      <td>1254506021302808578</td>\n",
       "      <td>1230551625531416579</td>\n",
       "      <td>cabreracundi</td>\n",
       "      <td>#Cabrera #COVID19 🧼🦠| Comunicado de Prensa Cas...</td>\n",
       "      <td>1</td>\n",
       "      <td>1</td>\n",
       "      <td>0</td>\n",
       "      <td>2020-04-26 20:21:57+00:00</td>\n",
       "      <td>#Cabrera #COVID19 #Alcald #Municipal #Cabrera ...</td>\n",
       "      <td>Col</td>\n",
       "    </tr>\n",
       "  </tbody>\n",
       "</table>\n",
       "<p>97087 rows × 10 columns</p>\n",
       "</div>"
      ],
      "text/plain": [
       "                  Tweet_Id        Tweet_User_Id       Tweet_User  \\\n",
       "0      1300465503564173313            480666205           DrPasm   \n",
       "1      1300264361466920960             85148912       jocaritomb   \n",
       "2      1300185866871042048            170478394       diegob1946   \n",
       "3      1299935511801458693  1252327240731365381  MesaLGBTIusaque   \n",
       "4      1299892408465993728             85148912       jocaritomb   \n",
       "...                    ...                  ...              ...   \n",
       "97082  1241224027991048199  1230551625531416579     cabreracundi   \n",
       "97083  1240687422855245824  1230551625531416579     cabreracundi   \n",
       "97084  1238643382936797184  1230551625531416579     cabreracundi   \n",
       "97085  1267878146688368642  1230551625531416579     cabreracundi   \n",
       "97086  1254506021302808578  1230551625531416579     cabreracundi   \n",
       "\n",
       "                                                    Text  Retweets  Favorites  \\\n",
       "0      El antes y el durante la pandemia comunista ch...         0          0   \n",
       "1      Día 166 #cuarentena ... Ya sé que se acabó, qu...         0          0   \n",
       "2      Simplemente irresistible 🍓🍇🍒 . . #postres #ant...         0          0   \n",
       "3      Seguimos cuidandonos solo por emergencia podem...         0          0   \n",
       "4      Día 165 #cuarentena ... Más despeinada de lo n...         0          0   \n",
       "...                                                  ...       ...        ...   \n",
       "97082  La alcaldía de Cabrera Cundinamarca está de ac...         0          0   \n",
       "97083  La administración municipal hace un llamado a ...         0          0   \n",
       "97084  La administración municipal invita a toda la c...         0          0   \n",
       "97085      Primeros Casos COVID-19 Cabrera Cundinamarca          2          6   \n",
       "97086  #Cabrera #COVID19 🧼🦠| Comunicado de Prensa Cas...         1          1   \n",
       "\n",
       "       Replies                   Datetime  \\\n",
       "0            0  2020-08-31 16:08:32+00:00   \n",
       "1            0  2020-08-31 02:49:16+00:00   \n",
       "2            0  2020-08-30 21:37:21+00:00   \n",
       "3            0  2020-08-30 05:02:32+00:00   \n",
       "4            0  2020-08-30 02:11:15+00:00   \n",
       "...        ...                        ...   \n",
       "97082        0  2020-03-21 04:44:03+00:00   \n",
       "97083        0  2020-03-19 17:11:47+00:00   \n",
       "97084        0  2020-03-14 01:49:30+00:00   \n",
       "97085        1  2020-06-02 17:58:00+00:00   \n",
       "97086        0  2020-04-26 20:21:57+00:00   \n",
       "\n",
       "                                                hashtags Pais  \n",
       "0                                                         Col  \n",
       "1                                            #cuarentena  Col  \n",
       "2      #postres #antojo #detalles #domicilio #takeawa...  Col  \n",
       "3      #reactivaci #pandemia #bioseguridad #contagio ...  Col  \n",
       "4                                            #cuarentena  Col  \n",
       "...                                                  ...  ...  \n",
       "97082                                                     Col  \n",
       "97083                                                     Col  \n",
       "97084                                       #Coronavirus  Col  \n",
       "97085                                                     Col  \n",
       "97086  #Cabrera #COVID19 #Alcald #Municipal #Cabrera ...  Col  \n",
       "\n",
       "[97087 rows x 10 columns]"
      ]
     },
     "execution_count": 75,
     "metadata": {},
     "output_type": "execute_result"
    }
   ],
   "source": [
    "ECUADOR_CONCAT_DISTINCT"
   ]
  },
  {
   "cell_type": "code",
   "execution_count": null,
   "metadata": {},
   "outputs": [],
   "source": [
    "ECUADOR_CONCAT_DISTINCT.to_csv('ECUADOR_CONCAT_DISTINCT.csv', header=True, index=False, encoding='utf-8-sig')"
   ]
  }
 ],
 "metadata": {
  "kernelspec": {
   "display_name": "Python 3",
   "language": "python",
   "name": "python3"
  },
  "language_info": {
   "codemirror_mode": {
    "name": "ipython",
    "version": 3
   },
   "file_extension": ".py",
   "mimetype": "text/x-python",
   "name": "python",
   "nbconvert_exporter": "python",
   "pygments_lexer": "ipython3",
   "version": "3.8.3"
  }
 },
 "nbformat": 4,
 "nbformat_minor": 2
}
