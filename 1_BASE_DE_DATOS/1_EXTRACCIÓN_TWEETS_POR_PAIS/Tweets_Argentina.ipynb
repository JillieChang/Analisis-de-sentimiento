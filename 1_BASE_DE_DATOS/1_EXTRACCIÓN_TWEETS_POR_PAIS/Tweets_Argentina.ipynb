{
 "cells": [
  {
   "cell_type": "markdown",
   "metadata": {},
   "source": [
    "## EXTRACCIÓN DE TWEETS DE ARGENTINA"
   ]
  },
  {
   "cell_type": "markdown",
   "metadata": {},
   "source": [
    "### 1. Cargar librerías paquetes "
   ]
  },
  {
   "cell_type": "code",
   "execution_count": null,
   "metadata": {},
   "outputs": [],
   "source": [
    "#ARGENTINA\n",
    "#import tweepy \n",
    "import pandas as pd\n",
    "import numpy as np\n",
    "import GetOldTweets3 as got\n",
    "import time\n",
    "from IPython.display import display\n",
    "import matplotlib.pyplot as plt\n",
    "import seaborn as sns\n",
    "#from credentials import *"
   ]
  },
  {
   "cell_type": "markdown",
   "metadata": {},
   "source": [
    "### 2. Extraer datos"
   ]
  },
  {
   "cell_type": "code",
   "execution_count": null,
   "metadata": {},
   "outputs": [],
   "source": [
    "geocode = \"-34.683550,-58.462953\"\n",
    "km = \"1.74704km\"\n",
    "text_query = 'covid OR coronavirus OR pandemia OR cuarentena'\n",
    "since_date = \"2020-1-01\"\n",
    "until_date = \"2020-9-01\"\n",
    "count = 2500000\n",
    "tweetCriteria = got.manager.TweetCriteria().setQuerySearch(text_query).setNear(geocode).setWithin(km).setSince(since_date).setUntil(until_date).setMaxTweets(count).setEmoji(\"unicode\")\n",
    "tweets = got.manager.TweetManager.getTweets(tweetCriteria)\n",
    "tweets_list = [[tweet.id, tweet.author_id, tweet.username, tweet.text, tweet.retweets, tweet.favorites, tweet.replies, tweet.date, tweet.hashtags] for tweet in tweets]\n",
    "tweets_Argentina1 = pd.DataFrame(tweets_list, columns = ['Tweet_Id', 'Tweet_User_Id', 'Tweet_User', 'Text','Retweets', 'Favorites', 'Replies', 'Datetime', 'hashtags'])\n",
    "tweets_Argentina1.to_csv('covid_arg_emoji_1.csv', header=True, index=False, encoding='utf-8-sig')"
   ]
  },
  {
   "cell_type": "code",
   "execution_count": null,
   "metadata": {},
   "outputs": [],
   "source": [
    "geocode = \"-34.668799,-58.482479\"\n",
    "km = \"1.75038km\"\n",
    "tweetCriteria = got.manager.TweetCriteria().setQuerySearch(text_query).setNear(geocode).setWithin(km).setSince(since_date).setUntil(until_date).setMaxTweets(count).setEmoji(\"unicode\")\n",
    "tweets = got.manager.TweetManager.getTweets(tweetCriteria)\n",
    "tweets_list = [[tweet.id, tweet.author_id, tweet.username, tweet.text, tweet.retweets, tweet.favorites, tweet.replies, tweet.date, tweet.hashtags] for tweet in tweets]\n",
    "tweets_Argentina2 = pd.DataFrame(tweets_list, columns = ['Tweet_Id', 'Tweet_User_Id', 'Tweet_User', 'Text','Retweets', 'Favorites', 'Replies', 'Datetime', 'hashtags'])\n",
    "tweets_Argentina2.to_csv('covid_arg_emoji_2.csv', header=True, index=False, encoding='utf-8-sig')"
   ]
  },
  {
   "cell_type": "code",
   "execution_count": null,
   "metadata": {},
   "outputs": [],
   "source": [
    "geocode = \"-34.646771,-58.452267\"\n",
    "km = \"2.94806km\"\n",
    "tweetCriteria = got.manager.TweetCriteria().setQuerySearch(text_query).setNear(geocode).setWithin(km).setSince(since_date).setUntil(until_date).setMaxTweets(count).setEmoji(\"unicode\")\n",
    "tweets = got.manager.TweetManager.getTweets(tweetCriteria)\n",
    "tweets_list = [[tweet.id, tweet.author_id, tweet.username, tweet.text, tweet.retweets, tweet.favorites, tweet.replies, tweet.date, tweet.hashtags] for tweet in tweets]\n",
    "tweets_Argentina3 = pd.DataFrame(tweets_list, columns = ['Tweet_Id', 'Tweet_User_Id', 'Tweet_User', 'Text','Retweets', 'Favorites', 'Replies', 'Datetime', 'hashtags'])\n",
    "tweets_Argentina3.to_csv('covid_arg_emoji_3.csv', header=True, index=False, encoding='utf-8-sig')"
   ]
  },
  {
   "cell_type": "code",
   "execution_count": null,
   "metadata": {},
   "outputs": [],
   "source": [
    "geocode = \"-34.645819,-58.500117\"\n",
    "km = \"2.52924km\"\n",
    "tweetCriteria = got.manager.TweetCriteria().setQuerySearch(text_query).setNear(geocode).setWithin(km).setSince(since_date).setUntil(until_date).setMaxTweets(count).setEmoji(\"unicode\")\n",
    "tweets = got.manager.TweetManager.getTweets(tweetCriteria)\n",
    "tweets_list = [[tweet.id, tweet.author_id, tweet.username, tweet.text, tweet.retweets, tweet.favorites, tweet.replies, tweet.date, tweet.hashtags] for tweet in tweets]\n",
    "tweets_Argentina4 = pd.DataFrame(tweets_list, columns = ['Tweet_Id', 'Tweet_User_Id', 'Tweet_User', 'Text','Retweets', 'Favorites', 'Replies', 'Datetime', 'hashtags'])\n",
    "tweets_Argentina4.to_csv('covid_arg_emoji_4.csv', header=True, index=False, encoding='utf-8-sig')"
   ]
  },
  {
   "cell_type": "code",
   "execution_count": null,
   "metadata": {},
   "outputs": [],
   "source": [
    "geocode = \"-34.613509,-58.491801\"\n",
    "km = \"3.25663km\"\n",
    "tweetCriteria = got.manager.TweetCriteria().setQuerySearch(text_query).setNear(geocode).setWithin(km).setSince(since_date).setUntil(until_date).setMaxTweets(count).setEmoji(\"unicode\")\n",
    "tweets = got.manager.TweetManager.getTweets(tweetCriteria)\n",
    "tweets_list = [[tweet.id, tweet.author_id, tweet.username, tweet.text, tweet.retweets, tweet.favorites, tweet.replies, tweet.date, tweet.hashtags] for tweet in tweets]\n",
    "tweets_Argentina5 = pd.DataFrame(tweets_list, columns = ['Tweet_Id', 'Tweet_User_Id', 'Tweet_User', 'Text','Retweets', 'Favorites', 'Replies', 'Datetime', 'hashtags'])\n",
    "tweets_Argentina5.to_csv('covid_arg_emoji_5.csv', header=True, index=False, encoding='utf-8-sig')"
   ]
  },
  {
   "cell_type": "code",
   "execution_count": null,
   "metadata": {},
   "outputs": [],
   "source": [
    "geocode = \"-34.608142,-58.400130\"\n",
    "km = \"5.51532km\"\n",
    "tweetCriteria = got.manager.TweetCriteria().setQuerySearch(text_query).setNear(geocode).setWithin(km).setSince(since_date).setUntil(until_date).setMaxTweets(count).setEmoji(\"unicode\")\n",
    "tweets = got.manager.TweetManager.getTweets(tweetCriteria)\n",
    "tweets_list = [[tweet.id, tweet.author_id, tweet.username, tweet.text, tweet.retweets, tweet.favorites, tweet.replies, tweet.date, tweet.hashtags] for tweet in tweets]\n",
    "tweets_Argentina6 = pd.DataFrame(tweets_list, columns = ['Tweet_Id', 'Tweet_User_Id', 'Tweet_User', 'Text','Retweets', 'Favorites', 'Replies', 'Datetime', 'hashtags'])\n",
    "tweets_Argentina6.to_csv('covid_arg_emoji_6.csv', header=True, index=False, encoding='utf-8-sig')"
   ]
  },
  {
   "cell_type": "code",
   "execution_count": null,
   "metadata": {},
   "outputs": [],
   "source": [
    "geocode = \"-34.579876,-58.459856\"\n",
    "km = \"4.66253km\"\n",
    "tweetCriteria = got.manager.TweetCriteria().setQuerySearch(text_query).setNear(geocode).setWithin(km).setSince(since_date).setUntil(until_date).setMaxTweets(count).setEmoji(\"unicode\")\n",
    "tweets = got.manager.TweetManager.getTweets(tweetCriteria)\n",
    "tweets_list = [[tweet.id, tweet.author_id, tweet.username, tweet.text, tweet.retweets, tweet.favorites, tweet.replies, tweet.date, tweet.hashtags] for tweet in tweets]\n",
    "tweets_Argentina7 = pd.DataFrame(tweets_list, columns = ['Tweet_Id', 'Tweet_User_Id', 'Tweet_User', 'Text','Retweets', 'Favorites', 'Replies', 'Datetime', 'hashtags'])\n",
    "tweets_Argentina7.to_csv('covid_arg_emoji_7.csv', header=True, index=False, encoding='utf-8-sig')"
   ]
  },
  {
   "cell_type": "code",
   "execution_count": null,
   "metadata": {},
   "outputs": [],
   "source": [
    "#\"-34.683550,-58.462953\" km=\"1.74704km\"\n",
    "#\"-34.668799,-58.482479\" km=\"1.75038km\" \n",
    "#\"-34.646771,-58.452267\" km=\"2.94806km\"\n",
    "#\"-34.645819,-58.500117\" km=\"2.52924km\"\n",
    "#\"-34.613509,-58.491801\" km=\"3.25663km\"\n",
    "#\"-34.608142,-58.400130\" km=\"5.51532km\"\n",
    "#\"-34.579876,-58.459856\" km=\"4.66253km\""
   ]
  },
  {
   "cell_type": "markdown",
   "metadata": {},
   "source": [
    "### 3. Se guarda la base"
   ]
  },
  {
   "cell_type": "markdown",
   "metadata": {},
   "source": [
    "Se juntan las bases"
   ]
  },
  {
   "cell_type": "code",
   "execution_count": 16,
   "metadata": {},
   "outputs": [
    {
     "data": {
      "text/plain": [
       "(142958, 9)"
      ]
     },
     "execution_count": 16,
     "metadata": {},
     "output_type": "execute_result"
    }
   ],
   "source": [
    "ARGENTINA_CONCAT = pd.concat([tweets_Argentina1,tweets_Argentina2,tweets_Argentina3,tweets_Argentina4,tweets_Argentina5,\n",
    "                              tweets_Argentina6,tweets_Argentina7,])\n",
    "ARGENTINA_CONCAT.shape"
   ]
  },
  {
   "cell_type": "markdown",
   "metadata": {},
   "source": [
    "Se eliminan duplicados"
   ]
  },
  {
   "cell_type": "code",
   "execution_count": 17,
   "metadata": {},
   "outputs": [],
   "source": [
    "ARGENTINA_CONCAT_DISTINCT= ARGENTINA_CONCAT.drop_duplicates()"
   ]
  },
  {
   "cell_type": "code",
   "execution_count": 18,
   "metadata": {},
   "outputs": [],
   "source": [
    "ARGENTINA_CONCAT_DISTINCT.reset_index(drop=True, inplace=True)"
   ]
  },
  {
   "cell_type": "code",
   "execution_count": 19,
   "metadata": {},
   "outputs": [
    {
     "data": {
      "text/html": [
       "<div>\n",
       "<style scoped>\n",
       "    .dataframe tbody tr th:only-of-type {\n",
       "        vertical-align: middle;\n",
       "    }\n",
       "\n",
       "    .dataframe tbody tr th {\n",
       "        vertical-align: top;\n",
       "    }\n",
       "\n",
       "    .dataframe thead th {\n",
       "        text-align: right;\n",
       "    }\n",
       "</style>\n",
       "<table border=\"1\" class=\"dataframe\">\n",
       "  <thead>\n",
       "    <tr style=\"text-align: right;\">\n",
       "      <th></th>\n",
       "      <th>Tweet_Id</th>\n",
       "      <th>Tweet_User_Id</th>\n",
       "      <th>Tweet_User</th>\n",
       "      <th>Text</th>\n",
       "      <th>Retweets</th>\n",
       "      <th>Favorites</th>\n",
       "      <th>Replies</th>\n",
       "      <th>Datetime</th>\n",
       "      <th>hashtags</th>\n",
       "    </tr>\n",
       "  </thead>\n",
       "  <tbody>\n",
       "    <tr>\n",
       "      <th>0</th>\n",
       "      <td>1300243101701808131</td>\n",
       "      <td>1122524603501502464</td>\n",
       "      <td>MartinD50004804</td>\n",
       "      <td>Fotos mías en cuarentena Argentina 30_08_20 – ...</td>\n",
       "      <td>0</td>\n",
       "      <td>2</td>\n",
       "      <td>0</td>\n",
       "      <td>2020-08-31 01:24:47+00:00</td>\n",
       "      <td></td>\n",
       "    </tr>\n",
       "    <tr>\n",
       "      <th>1</th>\n",
       "      <td>1299346344432283650</td>\n",
       "      <td>825951804</td>\n",
       "      <td>ArcuriEva</td>\n",
       "      <td>Por favor dif. @Metrovias no se hace cargo alu...</td>\n",
       "      <td>21</td>\n",
       "      <td>12</td>\n",
       "      <td>11</td>\n",
       "      <td>2020-08-28 14:01:23+00:00</td>\n",
       "      <td></td>\n",
       "    </tr>\n",
       "    <tr>\n",
       "      <th>2</th>\n",
       "      <td>1299099152039710720</td>\n",
       "      <td>1446673566</td>\n",
       "      <td>ericatfresco</td>\n",
       "      <td>Cielos de cuarentena 🌇 . Buenos Aires 2020 🇦🇷 ...</td>\n",
       "      <td>0</td>\n",
       "      <td>0</td>\n",
       "      <td>0</td>\n",
       "      <td>2020-08-27 21:39:08+00:00</td>\n",
       "      <td>#atardecer #buenosaires #atardecerenbuenosaires</td>\n",
       "    </tr>\n",
       "    <tr>\n",
       "      <th>3</th>\n",
       "      <td>1298830627807035392</td>\n",
       "      <td>586634902</td>\n",
       "      <td>SoleMujicaOk</td>\n",
       "      <td>“Tal vez mi vida no ha sido tan caótica. Tan s...</td>\n",
       "      <td>0</td>\n",
       "      <td>1</td>\n",
       "      <td>0</td>\n",
       "      <td>2020-08-27 03:52:07+00:00</td>\n",
       "      <td>#ComerRezarAmar #cuarentena #pandemia #solemujica</td>\n",
       "    </tr>\n",
       "    <tr>\n",
       "      <th>4</th>\n",
       "      <td>1297975591929630727</td>\n",
       "      <td>1122524603501502464</td>\n",
       "      <td>MartinD50004804</td>\n",
       "      <td>Fotos mías en cuarentena Argentina 24/08/20 – ...</td>\n",
       "      <td>0</td>\n",
       "      <td>1</td>\n",
       "      <td>0</td>\n",
       "      <td>2020-08-24 19:14:30+00:00</td>\n",
       "      <td></td>\n",
       "    </tr>\n",
       "    <tr>\n",
       "      <th>...</th>\n",
       "      <td>...</td>\n",
       "      <td>...</td>\n",
       "      <td>...</td>\n",
       "      <td>...</td>\n",
       "      <td>...</td>\n",
       "      <td>...</td>\n",
       "      <td>...</td>\n",
       "      <td>...</td>\n",
       "      <td>...</td>\n",
       "    </tr>\n",
       "    <tr>\n",
       "      <th>115393</th>\n",
       "      <td>1273641829397823488</td>\n",
       "      <td>1164665481544028161</td>\n",
       "      <td>matialarconn</td>\n",
       "      <td>90 dias de cuarentena para ver a pelotudos cor...</td>\n",
       "      <td>0</td>\n",
       "      <td>3</td>\n",
       "      <td>1</td>\n",
       "      <td>2020-06-18 15:40:49+00:00</td>\n",
       "      <td></td>\n",
       "    </tr>\n",
       "    <tr>\n",
       "      <th>115394</th>\n",
       "      <td>1273418229533343744</td>\n",
       "      <td>2453671839</td>\n",
       "      <td>Paula_muler</td>\n",
       "      <td>#OrgulloUNSAM ¿Cómo es el proceso y desarrollo...</td>\n",
       "      <td>0</td>\n",
       "      <td>0</td>\n",
       "      <td>0</td>\n",
       "      <td>2020-06-18 00:52:19+00:00</td>\n",
       "      <td>#OrgulloUNSAM</td>\n",
       "    </tr>\n",
       "    <tr>\n",
       "      <th>115395</th>\n",
       "      <td>1273327698149085185</td>\n",
       "      <td>6750752</td>\n",
       "      <td>RogerSchultz</td>\n",
       "      <td>Hasta siempre latamairlines Argentina. 💔 #pand...</td>\n",
       "      <td>0</td>\n",
       "      <td>0</td>\n",
       "      <td>0</td>\n",
       "      <td>2020-06-17 18:52:35+00:00</td>\n",
       "      <td>#pandemia #covid19 #aviationphotography #aircr...</td>\n",
       "    </tr>\n",
       "    <tr>\n",
       "      <th>115396</th>\n",
       "      <td>1273054157893767169</td>\n",
       "      <td>1319504460</td>\n",
       "      <td>carolbat1</td>\n",
       "      <td>Y caí en esto...soy mi papá 🤣🤣🤣#faceapp #cuare...</td>\n",
       "      <td>0</td>\n",
       "      <td>1</td>\n",
       "      <td>0</td>\n",
       "      <td>2020-06-17 00:45:38+00:00</td>\n",
       "      <td>#faceapp #cuarentena #dia92 #cuarentenaeterna</td>\n",
       "    </tr>\n",
       "    <tr>\n",
       "      <th>115397</th>\n",
       "      <td>1273046134785806341</td>\n",
       "      <td>215468943</td>\n",
       "      <td>teatroclases</td>\n",
       "      <td>Pasión a gusto 🎭♥️🏠 . . . . #instagram #artist...</td>\n",
       "      <td>0</td>\n",
       "      <td>0</td>\n",
       "      <td>0</td>\n",
       "      <td>2020-06-17 00:13:45+00:00</td>\n",
       "      <td>#instagram #artista #artistas #teatro #theatre...</td>\n",
       "    </tr>\n",
       "  </tbody>\n",
       "</table>\n",
       "<p>115398 rows × 9 columns</p>\n",
       "</div>"
      ],
      "text/plain": [
       "                   Tweet_Id        Tweet_User_Id       Tweet_User  \\\n",
       "0       1300243101701808131  1122524603501502464  MartinD50004804   \n",
       "1       1299346344432283650            825951804        ArcuriEva   \n",
       "2       1299099152039710720           1446673566     ericatfresco   \n",
       "3       1298830627807035392            586634902     SoleMujicaOk   \n",
       "4       1297975591929630727  1122524603501502464  MartinD50004804   \n",
       "...                     ...                  ...              ...   \n",
       "115393  1273641829397823488  1164665481544028161     matialarconn   \n",
       "115394  1273418229533343744           2453671839      Paula_muler   \n",
       "115395  1273327698149085185              6750752     RogerSchultz   \n",
       "115396  1273054157893767169           1319504460        carolbat1   \n",
       "115397  1273046134785806341            215468943     teatroclases   \n",
       "\n",
       "                                                     Text  Retweets  \\\n",
       "0       Fotos mías en cuarentena Argentina 30_08_20 – ...         0   \n",
       "1       Por favor dif. @Metrovias no se hace cargo alu...        21   \n",
       "2       Cielos de cuarentena 🌇 . Buenos Aires 2020 🇦🇷 ...         0   \n",
       "3       “Tal vez mi vida no ha sido tan caótica. Tan s...         0   \n",
       "4       Fotos mías en cuarentena Argentina 24/08/20 – ...         0   \n",
       "...                                                   ...       ...   \n",
       "115393  90 dias de cuarentena para ver a pelotudos cor...         0   \n",
       "115394  #OrgulloUNSAM ¿Cómo es el proceso y desarrollo...         0   \n",
       "115395  Hasta siempre latamairlines Argentina. 💔 #pand...         0   \n",
       "115396  Y caí en esto...soy mi papá 🤣🤣🤣#faceapp #cuare...         0   \n",
       "115397  Pasión a gusto 🎭♥️🏠 . . . . #instagram #artist...         0   \n",
       "\n",
       "        Favorites  Replies                  Datetime  \\\n",
       "0               2        0 2020-08-31 01:24:47+00:00   \n",
       "1              12       11 2020-08-28 14:01:23+00:00   \n",
       "2               0        0 2020-08-27 21:39:08+00:00   \n",
       "3               1        0 2020-08-27 03:52:07+00:00   \n",
       "4               1        0 2020-08-24 19:14:30+00:00   \n",
       "...           ...      ...                       ...   \n",
       "115393          3        1 2020-06-18 15:40:49+00:00   \n",
       "115394          0        0 2020-06-18 00:52:19+00:00   \n",
       "115395          0        0 2020-06-17 18:52:35+00:00   \n",
       "115396          1        0 2020-06-17 00:45:38+00:00   \n",
       "115397          0        0 2020-06-17 00:13:45+00:00   \n",
       "\n",
       "                                                 hashtags  \n",
       "0                                                          \n",
       "1                                                          \n",
       "2         #atardecer #buenosaires #atardecerenbuenosaires  \n",
       "3       #ComerRezarAmar #cuarentena #pandemia #solemujica  \n",
       "4                                                          \n",
       "...                                                   ...  \n",
       "115393                                                     \n",
       "115394                                      #OrgulloUNSAM  \n",
       "115395  #pandemia #covid19 #aviationphotography #aircr...  \n",
       "115396      #faceapp #cuarentena #dia92 #cuarentenaeterna  \n",
       "115397  #instagram #artista #artistas #teatro #theatre...  \n",
       "\n",
       "[115398 rows x 9 columns]"
      ]
     },
     "execution_count": 19,
     "metadata": {},
     "output_type": "execute_result"
    }
   ],
   "source": [
    "ARGENTINA_CONCAT_DISTINCT"
   ]
  },
  {
   "cell_type": "code",
   "execution_count": 20,
   "metadata": {},
   "outputs": [],
   "source": [
    "ARGENTINA_CONCAT_DISTINCT.to_csv('ARGENTINA_CONCAT_DISTINCT.csv', header=True, index=False, encoding='utf-8-sig')"
   ]
  },
  {
   "cell_type": "markdown",
   "metadata": {},
   "source": [
    "Se agrega columna de país con la etiqueta \"Arg\" de Argentina"
   ]
  },
  {
   "cell_type": "code",
   "execution_count": 21,
   "metadata": {},
   "outputs": [
    {
     "name": "stderr",
     "output_type": "stream",
     "text": [
      "<ipython-input-21-55f345c224a0>:1: SettingWithCopyWarning: \n",
      "A value is trying to be set on a copy of a slice from a DataFrame.\n",
      "Try using .loc[row_indexer,col_indexer] = value instead\n",
      "\n",
      "See the caveats in the documentation: https://pandas.pydata.org/pandas-docs/stable/user_guide/indexing.html#returning-a-view-versus-a-copy\n",
      "  ARGENTINA_CONCAT_DISTINCT['Pais'] = 'Arg'\n"
     ]
    }
   ],
   "source": [
    "ARGENTINA_CONCAT_DISTINCT['Pais'] = 'Arg'"
   ]
  },
  {
   "cell_type": "markdown",
   "metadata": {},
   "source": [
    "Se guarda la base"
   ]
  },
  {
   "cell_type": "code",
   "execution_count": 22,
   "metadata": {},
   "outputs": [],
   "source": [
    "ARGENTINA_CONCAT_DISTINCT.to_csv('ARGENTINA_CONCAT_DISTINCT.csv', header=True, index=False, encoding='utf-8-sig')"
   ]
  }
 ],
 "metadata": {
  "kernelspec": {
   "display_name": "Python 3",
   "language": "python",
   "name": "python3"
  },
  "language_info": {
   "codemirror_mode": {
    "name": "ipython",
    "version": 3
   },
   "file_extension": ".py",
   "mimetype": "text/x-python",
   "name": "python",
   "nbconvert_exporter": "python",
   "pygments_lexer": "ipython3",
   "version": "3.8.3"
  }
 },
 "nbformat": 4,
 "nbformat_minor": 2
}
