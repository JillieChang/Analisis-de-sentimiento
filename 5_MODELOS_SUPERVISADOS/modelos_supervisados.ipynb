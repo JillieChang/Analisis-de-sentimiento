{
 "cells": [
  {
   "cell_type": "markdown",
   "metadata": {},
   "source": [
    "## MODELOS SUPERVISADOS: \n",
    "LogisticRegression, LinearSVC, MultinomialNB,  NeighborsClassifier y DecisionTreeClassifier"
   ]
  },
  {
   "cell_type": "markdown",
   "metadata": {},
   "source": [
    "### 1. Cargar librerías"
   ]
  },
  {
   "cell_type": "code",
   "execution_count": 4,
   "metadata": {},
   "outputs": [],
   "source": [
    "import re as re\n",
    "from nltk.stem import SnowballStemmer\n",
    "from nltk import TweetTokenizer\n",
    "import emoji as emoji\n",
    "import csv\n",
    "import pandas as pd\n",
    "from pandas import DataFrame\n",
    "import numpy as np\n",
    "from nltk import TweetTokenizer\n",
    "from nltk.corpus import stopwords\n",
    "from sklearn.feature_extraction.text import CountVectorizer, TfidfVectorizer\n",
    "from sklearn.model_selection import GridSearchCV, StratifiedKFold\n",
    "from sklearn.naive_bayes import MultinomialNB\n",
    "from sklearn.neighbors import KNeighborsClassifier\n",
    "from sklearn.pipeline import Pipeline\n",
    "from sklearn.svm import LinearSVC\n",
    "from sklearn.tree import DecisionTreeClassifier\n",
    "from sklearn.linear_model import LogisticRegression\n",
    "from sklearn.ensemble import RandomForestClassifier\n",
    "from Preprocessor import Preprocessor\n",
    "import sklearn as sklearn\n",
    "from sklearn.metrics import confusion_matrix\n",
    "from sklearn import metrics\n",
    "from sklearn.metrics import roc_auc_score\n",
    "import sklearn.metrics as metrics\n",
    "import matplotlib.pyplot as plt"
   ]
  },
  {
   "cell_type": "markdown",
   "metadata": {},
   "source": [
    "### 2. Base de Datos"
   ]
  },
  {
   "cell_type": "markdown",
   "metadata": {},
   "source": [
    "#### 2.1 Importar datos "
   ]
  },
  {
   "cell_type": "code",
   "execution_count": 5,
   "metadata": {},
   "outputs": [
    {
     "data": {
      "text/html": [
       "<div>\n",
       "<style scoped>\n",
       "    .dataframe tbody tr th:only-of-type {\n",
       "        vertical-align: middle;\n",
       "    }\n",
       "\n",
       "    .dataframe tbody tr th {\n",
       "        vertical-align: top;\n",
       "    }\n",
       "\n",
       "    .dataframe thead th {\n",
       "        text-align: right;\n",
       "    }\n",
       "</style>\n",
       "<table border=\"1\" class=\"dataframe\">\n",
       "  <thead>\n",
       "    <tr style=\"text-align: right;\">\n",
       "      <th></th>\n",
       "      <th>Tweet_Id</th>\n",
       "      <th>Tweet_User_Id</th>\n",
       "      <th>Tweet_User</th>\n",
       "      <th>Text</th>\n",
       "      <th>Retweets</th>\n",
       "      <th>Favorites</th>\n",
       "      <th>Replies</th>\n",
       "      <th>Datetime</th>\n",
       "      <th>hashtags</th>\n",
       "      <th>Pais</th>\n",
       "      <th>Tweet_Source</th>\n",
       "      <th>lang</th>\n",
       "      <th>clean_text</th>\n",
       "      <th>clean_text2</th>\n",
       "      <th>Ind_emoji</th>\n",
       "      <th>clean_text3</th>\n",
       "      <th>Ind_Posi</th>\n",
       "      <th>Ind_Nega</th>\n",
       "      <th>Target</th>\n",
       "      <th>text_limpio</th>\n",
       "    </tr>\n",
       "  </thead>\n",
       "  <tbody>\n",
       "    <tr>\n",
       "      <th>1</th>\n",
       "      <td>1243708742161633280</td>\n",
       "      <td>1113483741765222401</td>\n",
       "      <td>MJosealf</td>\n",
       "      <td>Pero que falta de criterio!!!! Y esto está pas...</td>\n",
       "      <td>0</td>\n",
       "      <td>0</td>\n",
       "      <td>0</td>\n",
       "      <td>2020-03-28 01:17:25+00:00</td>\n",
       "      <td>NaN</td>\n",
       "      <td>Chi</td>\n",
       "      <td>Twitter for iPhone</td>\n",
       "      <td>es</td>\n",
       "      <td>{'🤬': 'face with symbols on mouth'}</td>\n",
       "      <td>Pero que falta de criterio!!!! Y esto está pas...</td>\n",
       "      <td>1</td>\n",
       "      <td>['face with symbols on mouth']</td>\n",
       "      <td>0</td>\n",
       "      <td>1</td>\n",
       "      <td>N</td>\n",
       "      <td>pero que falta de criterio y esto está pasando...</td>\n",
       "    </tr>\n",
       "  </tbody>\n",
       "</table>\n",
       "</div>"
      ],
      "text/plain": [
       "              Tweet_Id        Tweet_User_Id Tweet_User  \\\n",
       "1  1243708742161633280  1113483741765222401   MJosealf   \n",
       "\n",
       "                                                Text  Retweets  Favorites  \\\n",
       "1  Pero que falta de criterio!!!! Y esto está pas...         0          0   \n",
       "\n",
       "   Replies                   Datetime hashtags Pais        Tweet_Source lang  \\\n",
       "1        0  2020-03-28 01:17:25+00:00      NaN  Chi  Twitter for iPhone   es   \n",
       "\n",
       "                            clean_text  \\\n",
       "1  {'🤬': 'face with symbols on mouth'}   \n",
       "\n",
       "                                         clean_text2  Ind_emoji  \\\n",
       "1  Pero que falta de criterio!!!! Y esto está pas...          1   \n",
       "\n",
       "                      clean_text3  Ind_Posi  Ind_Nega Target  \\\n",
       "1  ['face with symbols on mouth']         0         1      N   \n",
       "\n",
       "                                         text_limpio  \n",
       "1  pero que falta de criterio y esto está pasando...  "
      ]
     },
     "execution_count": 5,
     "metadata": {},
     "output_type": "execute_result"
    }
   ],
   "source": [
    "import pandas as pd\n",
    "train= pd.read_csv(r'C:\\Users\\jilli\\Desktop\\TFM\\2\\train.csv') #Ruta Jillie\n",
    "train[1:2]"
   ]
  },
  {
   "cell_type": "code",
   "execution_count": 6,
   "metadata": {},
   "outputs": [],
   "source": [
    "train[\"text_limpio\"]=train[\"Text\"].to_numpy() # duplica columna Text con formato numpy"
   ]
  },
  {
   "cell_type": "markdown",
   "metadata": {},
   "source": [
    "#### 2.2 Preprocesamiento de datos"
   ]
  },
  {
   "cell_type": "code",
   "execution_count": 7,
   "metadata": {},
   "outputs": [],
   "source": [
    "# definir funciones\n",
    "\n",
    "def removeURLs(str):\n",
    "    return re.sub(r'https?://\\S+','',str)\n",
    "def normURLs(str):\n",
    "    return re.sub(r'https?://\\S+','link',str)\n",
    "def removeWWW(str):\n",
    "    return re.sub(r'www.\\S+','',str)\n",
    "def normWWW(str):\n",
    "    return re.sub(r'www.\\S+','link',str)\n",
    "\n",
    "def strip_emoji(text):\n",
    "    new_text = re.sub(emoji.get_emoji_regexp(), r\"\", text)\n",
    "    return new_text\n",
    "def remove_user(str):\n",
    "    return re.sub(r'@\\S+','',str)\n",
    "def norm_user(str):\n",
    "    return re.sub(r'@\\S+','usuario',str)\n",
    "def remove_at(str):\n",
    "    return re.sub(r'– at.+$','',str)\n",
    "def remove_hashtags(str):\n",
    "    return re.sub(r'#\\S+','',str)\n",
    "def norm_hashtags(str):\n",
    "    return re.sub(r'#\\S+','hashtag',str)\n",
    "def punct_re_regex(s):     ##del profesor\n",
    "    return re.sub(r'[^\\w\\s]','',s)    \n",
    "def remove_digits(input_text):\n",
    "    return re.sub('\\d+', '', input_text)\n",
    "def remove_spaces(text):   #remueve espacios\n",
    "    return re.sub(r' +',' ',text)\n",
    "def remove_cant_char(str):\n",
    "    return re.sub(r'\\b\\w{1,2}\\b','',str)\n",
    "def aaaa(text):\n",
    "    text = ''.join([c for c in text if c not in spanish_stopwords])\n",
    "    return text\n",
    "jergas = [('d','de'), ('[qk]','que'), ('xo','pero'),('fav','favorito'), ('xa', 'para'), ('[xp]q','porque'),('es[qk]', 'es que'),\n",
    "              ('fvr','favor'),('(xfa|xf|pf|plis|pls|porfa)', 'por favor'), ('dnd','donde'), ('tb', 'también'),('ud','usted'),\n",
    "             ('uds','ustedes'),('(ctm|alv|hdp)','insulto'), ('sr','señor'),('(fds|finde)','fin de semana'),('app','aplicación'),\n",
    "         ('(La concha de tu madre|conchasumadres|reconchadesumadre|conchatumadre|la concha de la madre|la concha de su madre|La concha bien de su madre|la concha de tu hermana)','insulto'),\n",
    "              ('(tq|tk)', 'te quiero'), ('(tqm|tkm)', 'te quiero mucho'),('bb','bebé'), ('x','por'), ('\\+','mas')]\n",
    "def normalize_jergas(message):\n",
    "    for s,t in jergas:\n",
    "        message = re.sub(r'\\b{0}\\b'.format(s), t, message, flags=re.IGNORECASE)\n",
    "    return message   \n",
    "vocales= [('á','a'), ('é','e'), ('í','i'), ('ó','o'), ('ú','u'), ('ü','u')]\n",
    "def norma_vocales(message):\n",
    "    for s,t in vocales:\n",
    "        message = re.sub(r'{0}'.format(s), t, message, flags=re.IGNORECASE)\n",
    "    return message\n",
    "def normalize_risas(message):\n",
    "        message = re.sub(r'\\b(?=\\w*[j])[aeiouj]{4,}\\b', 'risas', message, flags=re.IGNORECASE)\n",
    "        message = re.sub(r'\\b(juas+|lol+)\\b', 'risas', message, flags=re.IGNORECASE)\n",
    "        message = re.sub(r'\\b(ja|jaa)\\b', 'risas', message, flags=re.IGNORECASE)\n",
    "        return message\n",
    "def normalize_repet(message):\n",
    "        message = re.sub(r'(.)\\1{2,}', r'\\1\\1', message, flags=re.IGNORECASE)\n",
    "        return message\n",
    "\n",
    "_stemmer = SnowballStemmer('spanish')\n",
    "_tokenizer = TweetTokenizer().tokenize\n",
    "    \n",
    "def stem(message):\n",
    "    message = ' '.join(_stemmer.stem(w) for w in _tokenizer(message))\n",
    "    return message"
   ]
  },
  {
   "cell_type": "code",
   "execution_count": 8,
   "metadata": {},
   "outputs": [],
   "source": [
    "# aplicar funciones\n",
    "\n",
    "train['text_limpio']=train['text_limpio'].str.lower()   ## minúsculas\n",
    "#train[\"text_limpio\"]=train[\"text_limpio\"].apply(lambda tweet: removeURLs(tweet)) ##quita url\n",
    "train[\"text_limpio\"]=train[\"text_limpio\"].apply(lambda tweet: normURLs(tweet)) ##normaliza url\n",
    "train[\"text_limpio\"]=train[\"text_limpio\"].apply(lambda tweet: normWWW(tweet)) ##normaliza url\n",
    "train[\"text_limpio\"]=train[\"text_limpio\"].apply(lambda tweet: strip_emoji(tweet))  # quita emojis\n",
    "#train[\"text_limpio\"]=train[\"text_limpio\"].apply(lambda tweet: remove_user(tweet))  #quita usuario\n",
    "train[\"text_limpio\"]=train[\"text_limpio\"].apply(lambda tweet: norm_user(tweet))  #normaliza usuario\n",
    "#train[\"text_limpio\"]=train[\"text_limpio\"].apply(lambda tweet: remove_hashtags(tweet))  #quita hashtags\n",
    "train[\"text_limpio\"]=train[\"text_limpio\"].apply(lambda tweet: norm_hashtags(tweet))  #normalizar hashtags\n",
    "train[\"text_limpio\"]=train[\"text_limpio\"].apply(lambda tweet: remove_at(tweet))  #quita at hasta el final\n",
    "train[\"text_limpio\"]=train[\"text_limpio\"].apply(lambda tweet: normalize_jergas(tweet)) #normaliza jergas\n",
    "train[\"text_limpio\"]=train[\"text_limpio\"].apply(lambda tweet: norma_vocales(tweet)) #normaliza tildes\n",
    "train[\"text_limpio\"]=train[\"text_limpio\"].apply(lambda tweet: normalize_risas(tweet))   #normaliza risas\n",
    "train[\"text_limpio\"]=train[\"text_limpio\"].apply(lambda tweet: punct_re_regex(tweet))  #quita signos punt\n",
    "train[\"text_limpio\"]=train[\"text_limpio\"].apply(lambda tweet: normalize_repet(tweet))  #quita signos punt\n",
    "train[\"text_limpio\"]=train[\"text_limpio\"].apply(lambda tweet: remove_digits(tweet))   #Quita dígitos\n",
    "train['text_limpio']=train['text_limpio'].str.replace(\"_\", \"\")     #quita _\n",
    "train[\"text_limpio\"]=train[\"text_limpio\"].apply(lambda tweet: stem(tweet))\n",
    "train[\"text_limpio\"]=train[\"text_limpio\"].apply(lambda tweet: remove_spaces(tweet))  \n",
    "train['text_limpio']=train['text_limpio'].str.strip()\n"
   ]
  },
  {
   "cell_type": "code",
   "execution_count": 9,
   "metadata": {},
   "outputs": [],
   "source": [
    "base_train=train.iloc[:,[0,19,18]] # alternativa para seleccionar columnas: emojis[[\"text_SINemoji\",\"Target\"]]"
   ]
  },
  {
   "cell_type": "code",
   "execution_count": 10,
   "metadata": {},
   "outputs": [
    {
     "data": {
      "text/html": [
       "<div>\n",
       "<style scoped>\n",
       "    .dataframe tbody tr th:only-of-type {\n",
       "        vertical-align: middle;\n",
       "    }\n",
       "\n",
       "    .dataframe tbody tr th {\n",
       "        vertical-align: top;\n",
       "    }\n",
       "\n",
       "    .dataframe thead th {\n",
       "        text-align: right;\n",
       "    }\n",
       "</style>\n",
       "<table border=\"1\" class=\"dataframe\">\n",
       "  <thead>\n",
       "    <tr style=\"text-align: right;\">\n",
       "      <th></th>\n",
       "      <th>Tweet_Id</th>\n",
       "      <th>text_limpio</th>\n",
       "      <th>Target</th>\n",
       "    </tr>\n",
       "  </thead>\n",
       "  <tbody>\n",
       "    <tr>\n",
       "      <th>0</th>\n",
       "      <td>1249382391120048129</td>\n",
       "      <td>en esta cuarenten mi psicolog me ha dich que l...</td>\n",
       "      <td>N</td>\n",
       "    </tr>\n",
       "    <tr>\n",
       "      <th>1</th>\n",
       "      <td>1243708742161633280</td>\n",
       "      <td>per que falt de criteri y esto esta pas en muc...</td>\n",
       "      <td>N</td>\n",
       "    </tr>\n",
       "    <tr>\n",
       "      <th>2</th>\n",
       "      <td>1239277368986009600</td>\n",
       "      <td>graci lor aca todavi no es tan sever la cuaren...</td>\n",
       "      <td>P</td>\n",
       "    </tr>\n",
       "    <tr>\n",
       "      <th>3</th>\n",
       "      <td>1235980525694783488</td>\n",
       "      <td>cas confirm hashtag selv hashtag lim</td>\n",
       "      <td>N</td>\n",
       "    </tr>\n",
       "    <tr>\n",
       "      <th>4</th>\n",
       "      <td>1242148777357705216</td>\n",
       "      <td>yo si es que dig que usted aunqu no conozc a l...</td>\n",
       "      <td>P</td>\n",
       "    </tr>\n",
       "    <tr>\n",
       "      <th>...</th>\n",
       "      <td>...</td>\n",
       "      <td>...</td>\n",
       "      <td>...</td>\n",
       "    </tr>\n",
       "    <tr>\n",
       "      <th>22269</th>\n",
       "      <td>1285048010687291392</td>\n",
       "      <td>la pandemi me ha quit tant moment lind per has...</td>\n",
       "      <td>P</td>\n",
       "    </tr>\n",
       "    <tr>\n",
       "      <th>22270</th>\n",
       "      <td>1249688695256403969</td>\n",
       "      <td>grabat mientr vuel siempr y cuand no estes sol...</td>\n",
       "      <td>P</td>\n",
       "    </tr>\n",
       "    <tr>\n",
       "      <th>22271</th>\n",
       "      <td>1251896052279582721</td>\n",
       "      <td>lo buen de la cuarenten es que ya no hay que c...</td>\n",
       "      <td>P</td>\n",
       "    </tr>\n",
       "    <tr>\n",
       "      <th>22272</th>\n",
       "      <td>1276917451557568515</td>\n",
       "      <td>dia de cuarenten hashtag y much graci a usuari...</td>\n",
       "      <td>P</td>\n",
       "    </tr>\n",
       "    <tr>\n",
       "      <th>22273</th>\n",
       "      <td>1261733492435623937</td>\n",
       "      <td>feliz cumpleañ luci que dios te bendig que des...</td>\n",
       "      <td>P</td>\n",
       "    </tr>\n",
       "  </tbody>\n",
       "</table>\n",
       "<p>22274 rows × 3 columns</p>\n",
       "</div>"
      ],
      "text/plain": [
       "                  Tweet_Id                                        text_limpio  \\\n",
       "0      1249382391120048129  en esta cuarenten mi psicolog me ha dich que l...   \n",
       "1      1243708742161633280  per que falt de criteri y esto esta pas en muc...   \n",
       "2      1239277368986009600  graci lor aca todavi no es tan sever la cuaren...   \n",
       "3      1235980525694783488               cas confirm hashtag selv hashtag lim   \n",
       "4      1242148777357705216  yo si es que dig que usted aunqu no conozc a l...   \n",
       "...                    ...                                                ...   \n",
       "22269  1285048010687291392  la pandemi me ha quit tant moment lind per has...   \n",
       "22270  1249688695256403969  grabat mientr vuel siempr y cuand no estes sol...   \n",
       "22271  1251896052279582721  lo buen de la cuarenten es que ya no hay que c...   \n",
       "22272  1276917451557568515  dia de cuarenten hashtag y much graci a usuari...   \n",
       "22273  1261733492435623937  feliz cumpleañ luci que dios te bendig que des...   \n",
       "\n",
       "      Target  \n",
       "0          N  \n",
       "1          N  \n",
       "2          P  \n",
       "3          N  \n",
       "4          P  \n",
       "...      ...  \n",
       "22269      P  \n",
       "22270      P  \n",
       "22271      P  \n",
       "22272      P  \n",
       "22273      P  \n",
       "\n",
       "[22274 rows x 3 columns]"
      ]
     },
     "execution_count": 10,
     "metadata": {},
     "output_type": "execute_result"
    }
   ],
   "source": [
    "base_train"
   ]
  },
  {
   "cell_type": "code",
   "execution_count": 24,
   "metadata": {},
   "outputs": [],
   "source": [
    "# convertir archivo a formato csv\n",
    "base_train.to_csv('base_train.csv', header=False, index=False, encoding='utf-8-sig')"
   ]
  },
  {
   "cell_type": "markdown",
   "metadata": {},
   "source": [
    "### 3. Modelo"
   ]
  },
  {
   "cell_type": "code",
   "execution_count": 11,
   "metadata": {},
   "outputs": [],
   "source": [
    "# convertir de csv a list\n",
    "def csv_to_lists(filename):\n",
    "    messages = []\n",
    "    labels = []\n",
    "    with open(filename, 'r', encoding='utf-8') as csvfile:\n",
    "        reader = csv.reader(csvfile, delimiter=',')\n",
    "        for row in reader:\n",
    "            messages.append(row[1])\n",
    "            labels.append(row[2])\n",
    "    return messages, labels\n",
    "# NOTA: ESTE CÓDIGO ES UNA ADAPTACIÓN DE CARLES,V (2018). ANÁLISIS DE SENTIMIENTOS EN TWITTER"
   ]
  },
  {
   "cell_type": "code",
   "execution_count": 26,
   "metadata": {
    "scrolled": true
   },
   "outputs": [
    {
     "name": "stdout",
     "output_type": "stream",
     "text": [
      "Fitting 5 folds for each of 40 candidates, totalling 200 fits\n"
     ]
    },
    {
     "name": "stderr",
     "output_type": "stream",
     "text": [
      "[Parallel(n_jobs=-1)]: Using backend LokyBackend with 8 concurrent workers.\n",
      "[Parallel(n_jobs=-1)]: Done   2 tasks      | elapsed:   11.3s\n",
      "[Parallel(n_jobs=-1)]: Done  56 tasks      | elapsed:  4.4min\n",
      "[Parallel(n_jobs=-1)]: Done 146 tasks      | elapsed: 11.4min\n",
      "[Parallel(n_jobs=-1)]: Done 200 out of 200 | elapsed: 16.8min finished\n"
     ]
    },
    {
     "name": "stdout",
     "output_type": "stream",
     "text": [
      "best_score: 0.7157176995565704\n"
     ]
    },
    {
     "name": "stderr",
     "output_type": "stream",
     "text": [
      "C:\\Users\\jilli\\anaconda3\\lib\\site-packages\\sklearn\\linear_model\\_logistic.py:937: ConvergenceWarning: lbfgs failed to converge (status=1):\n",
      "STOP: TOTAL NO. of ITERATIONS REACHED LIMIT.\n",
      "\n",
      "Increase the number of iterations (max_iter) or scale the data as shown in:\n",
      "    https://scikit-learn.org/stable/modules/preprocessing.html.\n",
      "Please also refer to the documentation for alternative solver options:\n",
      "    https://scikit-learn.org/stable/modules/linear_model.html#logistic-regression\n",
      "  n_iter_i = _check_optimize_result(\n"
     ]
    }
   ],
   "source": [
    "\n",
    "# cargar datos\n",
    "message, label = csv_to_lists(\"C:/Users/jilli/Desktop/TFM/2/base_train.csv\")\n",
    "\n",
    "# spanish stop words\n",
    "spanish_stopwords = stopwords.words('spanish')\n",
    "\n",
    "# metricas\n",
    "scoring = {'accuracy': 'accuracy',\n",
    "           'f1_weighted': 'f1_weighted',\n",
    "          'roc_auc':'roc_auc',\n",
    "         'precision_weighted': 'precision_weighted',\n",
    "            'recall_weighted': 'recall_weighted'\n",
    "            }\n",
    "            \n",
    "# pipeline\n",
    "pipeline = Pipeline([('vectorizer', None),\n",
    "                     ('classifier', None)])\n",
    "\n",
    "# Tokenización\n",
    "tokenizer = TweetTokenizer().tokenize\n",
    "\n",
    "# feature weights\n",
    "bow_binary_term_ocurrences = CountVectorizer(binary=True, tokenizer=tokenizer)\n",
    "bow_tfidf = TfidfVectorizer(use_idf=True, tokenizer=tokenizer)\n",
    "\n",
    "parameters = [{\n",
    "    'vectorizer': (bow_binary_term_ocurrences, bow_tfidf),\n",
    "    'vectorizer__preprocessor': (Preprocessor(twitter_features=Preprocessor.NORMALIZE).preprocess,\n",
    "                                 Preprocessor(twitter_features=Preprocessor.NORMALIZE, stemming=True).preprocess),\n",
    "    'vectorizer__stop_words': (None, spanish_stopwords),\n",
    "    'classifier': (LogisticRegression(),LinearSVC(),MultinomialNB(),KNeighborsClassifier(n_neighbors=200),DecisionTreeClassifier())\n",
    "}]\n",
    "\n",
    "\n",
    "if __name__ == '__main__':\n",
    "    skf = StratifiedKFold(n_splits=5, shuffle=True) # shufflebool, default=False. Whether to shuffle each class’s samples before splitting into batches. Note that the samples within each split will not be shuffled.\n",
    "    grid_search = GridSearchCV(pipeline, param_grid=parameters, n_jobs=-1, cv=skf, verbose=5, scoring=scoring,\n",
    "                               refit='f1_weighted', return_train_score=False)\n",
    "    grid_search.fit(message, label)\n",
    "    \n",
    "    print(\"best_score:\", grid_search.best_score_)\n",
    "    pd.DataFrame(grid_search.cv_results_).to_csv(path_or_buf='baseline.csv',\n",
    "                                                 quoting=csv.QUOTE_NONNUMERIC) # Se exportan resultados 'baseline.csv'\n",
    "# NOTA: ESTE CÓDIGO ES UNA ADAPTACIÓN DE CARLES,V (2018). ANÁLISIS DE SENTIMIENTOS EN TWITTER"
   ]
  },
  {
   "cell_type": "code",
   "execution_count": 16,
   "metadata": {},
   "outputs": [],
   "source": [
    "# convertir a formato excel los resultados\n",
    "a=pd.DataFrame(grid_search.cv_results_)\n",
    "a\n",
    "a.to_excel('Resul_AS_16NOV.xls', header=True, index=True, encoding='utf-8-sig')"
   ]
  },
  {
   "cell_type": "markdown",
   "metadata": {},
   "source": [
    "### 4. Predicción"
   ]
  },
  {
   "cell_type": "code",
   "execution_count": 77,
   "metadata": {
    "scrolled": true
   },
   "outputs": [
    {
     "data": {
      "text/html": [
       "<div>\n",
       "<style scoped>\n",
       "    .dataframe tbody tr th:only-of-type {\n",
       "        vertical-align: middle;\n",
       "    }\n",
       "\n",
       "    .dataframe tbody tr th {\n",
       "        vertical-align: top;\n",
       "    }\n",
       "\n",
       "    .dataframe thead th {\n",
       "        text-align: right;\n",
       "    }\n",
       "</style>\n",
       "<table border=\"1\" class=\"dataframe\">\n",
       "  <thead>\n",
       "    <tr style=\"text-align: right;\">\n",
       "      <th></th>\n",
       "      <th>Tweet_Id</th>\n",
       "      <th>Text</th>\n",
       "      <th>Datetime</th>\n",
       "      <th>Pais</th>\n",
       "      <th>Target</th>\n",
       "    </tr>\n",
       "  </thead>\n",
       "  <tbody>\n",
       "    <tr>\n",
       "      <th>0</th>\n",
       "      <td>1241218096221827072</td>\n",
       "      <td>Señoress en tiempos de pandemia, nada mejor qu...</td>\n",
       "      <td>2020-03-21 04:20:29+00:00</td>\n",
       "      <td>Col</td>\n",
       "      <td>P</td>\n",
       "    </tr>\n",
       "    <tr>\n",
       "      <th>1</th>\n",
       "      <td>1254624530674393088</td>\n",
       "      <td>¿Pero en cuarentena? 🤷</td>\n",
       "      <td>2020-04-27 04:12:52+00:00</td>\n",
       "      <td>Col</td>\n",
       "      <td>N</td>\n",
       "    </tr>\n",
       "    <tr>\n",
       "      <th>2</th>\n",
       "      <td>1260601329375940610</td>\n",
       "      <td>Mi joystick...no alcanzará a llegar, gracias M...</td>\n",
       "      <td>2020-05-13 16:02:32+00:00</td>\n",
       "      <td>Chi</td>\n",
       "      <td>N</td>\n",
       "    </tr>\n",
       "    <tr>\n",
       "      <th>3</th>\n",
       "      <td>1268498533906292738</td>\n",
       "      <td>Hablemos de belleza en la cuarentena bogotana....</td>\n",
       "      <td>2020-06-04 11:03:12+00:00</td>\n",
       "      <td>Col</td>\n",
       "      <td>P</td>\n",
       "    </tr>\n",
       "    <tr>\n",
       "      <th>4</th>\n",
       "      <td>1252826196217262081</td>\n",
       "      <td>💙💙💙 #homeworkslave #BoyWithLuv #cuarentena vam...</td>\n",
       "      <td>2020-04-22 05:06:56+00:00</td>\n",
       "      <td>Per</td>\n",
       "      <td>P</td>\n",
       "    </tr>\n",
       "    <tr>\n",
       "      <th>...</th>\n",
       "      <td>...</td>\n",
       "      <td>...</td>\n",
       "      <td>...</td>\n",
       "      <td>...</td>\n",
       "      <td>...</td>\n",
       "    </tr>\n",
       "    <tr>\n",
       "      <th>9541</th>\n",
       "      <td>1273759524126588930</td>\n",
       "      <td>91 días de cuarentena y vamos récord tras réco...</td>\n",
       "      <td>2020-06-18 23:28:30+00:00</td>\n",
       "      <td>Arg</td>\n",
       "      <td>N</td>\n",
       "    </tr>\n",
       "    <tr>\n",
       "      <th>9542</th>\n",
       "      <td>1262147333250322432</td>\n",
       "      <td>NOS ANIMAMOS AL CORTE DE PELO. 😂 Muchísimas gr...</td>\n",
       "      <td>2020-05-17 22:25:48+00:00</td>\n",
       "      <td>Arg</td>\n",
       "      <td>P</td>\n",
       "    </tr>\n",
       "    <tr>\n",
       "      <th>9543</th>\n",
       "      <td>1252681613776949248</td>\n",
       "      <td>No doy más mabel quiero salir!!!!😒 #encierro #...</td>\n",
       "      <td>2020-04-21 19:32:25+00:00</td>\n",
       "      <td>Arg</td>\n",
       "      <td>N</td>\n",
       "    </tr>\n",
       "    <tr>\n",
       "      <th>9544</th>\n",
       "      <td>1251206243307393026</td>\n",
       "      <td>Vamos como avión 🤦‍♀️ #Covid_19</td>\n",
       "      <td>2020-04-17 17:49:49+00:00</td>\n",
       "      <td>Chi</td>\n",
       "      <td>N</td>\n",
       "    </tr>\n",
       "    <tr>\n",
       "      <th>9545</th>\n",
       "      <td>1246655965375746055</td>\n",
       "      <td>Acabo de enterarme que una chica que entrenaba...</td>\n",
       "      <td>2020-04-05 04:28:38+00:00</td>\n",
       "      <td>Col</td>\n",
       "      <td>N</td>\n",
       "    </tr>\n",
       "  </tbody>\n",
       "</table>\n",
       "<p>9546 rows × 5 columns</p>\n",
       "</div>"
      ],
      "text/plain": [
       "                 Tweet_Id                                               Text  \\\n",
       "0     1241218096221827072  Señoress en tiempos de pandemia, nada mejor qu...   \n",
       "1     1254624530674393088                            ¿Pero en cuarentena? 🤷    \n",
       "2     1260601329375940610  Mi joystick...no alcanzará a llegar, gracias M...   \n",
       "3     1268498533906292738  Hablemos de belleza en la cuarentena bogotana....   \n",
       "4     1252826196217262081  💙💙💙 #homeworkslave #BoyWithLuv #cuarentena vam...   \n",
       "...                   ...                                                ...   \n",
       "9541  1273759524126588930  91 días de cuarentena y vamos récord tras réco...   \n",
       "9542  1262147333250322432  NOS ANIMAMOS AL CORTE DE PELO. 😂 Muchísimas gr...   \n",
       "9543  1252681613776949248  No doy más mabel quiero salir!!!!😒 #encierro #...   \n",
       "9544  1251206243307393026                    Vamos como avión 🤦‍♀️ #Covid_19   \n",
       "9545  1246655965375746055  Acabo de enterarme que una chica que entrenaba...   \n",
       "\n",
       "                       Datetime Pais Target  \n",
       "0     2020-03-21 04:20:29+00:00  Col      P  \n",
       "1     2020-04-27 04:12:52+00:00  Col      N  \n",
       "2     2020-05-13 16:02:32+00:00  Chi      N  \n",
       "3     2020-06-04 11:03:12+00:00  Col      P  \n",
       "4     2020-04-22 05:06:56+00:00  Per      P  \n",
       "...                         ...  ...    ...  \n",
       "9541  2020-06-18 23:28:30+00:00  Arg      N  \n",
       "9542  2020-05-17 22:25:48+00:00  Arg      P  \n",
       "9543  2020-04-21 19:32:25+00:00  Arg      N  \n",
       "9544  2020-04-17 17:49:49+00:00  Chi      N  \n",
       "9545  2020-04-05 04:28:38+00:00  Col      N  \n",
       "\n",
       "[9546 rows x 5 columns]"
      ]
     },
     "execution_count": 77,
     "metadata": {},
     "output_type": "execute_result"
    }
   ],
   "source": [
    "base_predict= pd.read_csv(r'C:\\Users\\jilli\\Desktop\\TFM\\2\\test.csv')  \n",
    "base_predict  = DataFrame(base_predict,columns=[\"Tweet_Id\", \"Text\",\"Datetime\", \"Pais\",\"Target\"])\n",
    "base_predict"
   ]
  },
  {
   "cell_type": "code",
   "execution_count": 78,
   "metadata": {
    "scrolled": true
   },
   "outputs": [],
   "source": [
    "base_predict[\"text_limpio\"]=base_predict[\"Text\"].to_numpy() # duplica columna Text con formato numpy\n",
    "base_predict['text_limpio']=base_predict['text_limpio'].str.lower()   ## minúsculas\n",
    "#base_predict[\"text_limpio\"]=base_predict[\"text_limpio\"].apply(lambda tweet: removeURLs(tweet)) ##quita url\n",
    "base_predict[\"text_limpio\"]=base_predict[\"text_limpio\"].apply(lambda tweet: normURLs(tweet)) ##normaliz url\n",
    "base_predict[\"text_limpio\"]=base_predict[\"text_limpio\"].apply(lambda tweet: normWWW(tweet)) ##normaliza url\n",
    "base_predict[\"text_limpio\"]=base_predict[\"text_limpio\"].apply(lambda tweet: strip_emoji(tweet))  # quita emojis\n",
    "#base_predict[\"text_limpio\"]=base_predict[\"text_limpio\"].apply(lambda tweet: remove_user(tweet))  #quita usuario\n",
    "base_predict[\"text_limpio\"]=base_predict[\"text_limpio\"].apply(lambda tweet: norm_user(tweet))  #normaliza usuario\n",
    "#base_predict[\"text_limpio\"]=base_predict[\"text_limpio\"].apply(lambda tweet: remove_hashtags(tweet))  #quita hashtags\n",
    "base_predict[\"text_limpio\"]=base_predict[\"text_limpio\"].apply(lambda tweet: norm_hashtags(tweet))  #normaliza hashtags\n",
    "base_predict[\"text_limpio\"]=base_predict[\"text_limpio\"].apply(lambda tweet: remove_at(tweet))  #quita at hasta el final\n",
    "base_predict[\"text_limpio\"]=base_predict[\"text_limpio\"].apply(lambda tweet: normalize_jergas(tweet)) #normaliza jergas\n",
    "base_predict[\"text_limpio\"]=base_predict[\"text_limpio\"].apply(lambda tweet: norma_vocales(tweet)) #normaliza tildes\n",
    "base_predict[\"text_limpio\"]=base_predict[\"text_limpio\"].apply(lambda tweet: normalize_risas(tweet))   #normaliza risas\n",
    "base_predict[\"text_limpio\"]=base_predict[\"text_limpio\"].apply(lambda tweet: punct_re_regex(tweet))  #quita signos punt\n",
    "base_predict[\"text_limpio\"]=base_predict[\"text_limpio\"].apply(lambda tweet: normalize_repet(tweet))  #quita signos punt\n",
    "base_predict[\"text_limpio\"]=base_predict[\"text_limpio\"].apply(lambda tweet: remove_digits(tweet))   #Quita dígitos\n",
    "base_predict['text_limpio']=base_predict['text_limpio'].str.replace(\"_\", \"\")     #quita _\n",
    "base_predict[\"text_limpio\"]=base_predict[\"text_limpio\"].apply(lambda tweet: stem(tweet))\n",
    "base_predict[\"text_limpio\"]=base_predict[\"text_limpio\"].apply(lambda tweet: remove_spaces(tweet))  \n",
    "#Base_Emojis_PN[\"clean_text\"]=Base_Emojis_PN[\"clean_text\"].apply(lambda tweet: remove_cant_char(tweet))\n",
    "base_predict['text_limpio']=base_predict['text_limpio'].str.strip()"
   ]
  },
  {
   "cell_type": "code",
   "execution_count": 79,
   "metadata": {
    "scrolled": false
   },
   "outputs": [
    {
     "data": {
      "text/plain": [
       "['señoress en tiemp de pandemi nad mejor que pelicul que nos llen de esper y much amor hashtag hashtag',\n",
       " 'per en cuarenten']"
      ]
     },
     "execution_count": 79,
     "metadata": {},
     "output_type": "execute_result"
    }
   ],
   "source": [
    "text_limpio=base_predict[\"text_limpio\"].values.tolist()\n",
    "text_limpio[0:2]"
   ]
  },
  {
   "cell_type": "code",
   "execution_count": 80,
   "metadata": {},
   "outputs": [
    {
     "data": {
      "text/plain": [
       "array([0.8446212 , 0.50970356, 0.51930801, ..., 0.76643885, 0.53716867,\n",
       "       0.29778682])"
      ]
     },
     "execution_count": 80,
     "metadata": {},
     "output_type": "execute_result"
    }
   ],
   "source": [
    "# sentimiento y probabilidad\n",
    "sentimiento=grid_search.predict(text_limpio) # grid_search.best_estimator_.predict(a)\n",
    "sentimiento[0:2]\n",
    "puntaje=grid_search.predict_proba(text_limpio) # grid_search.best_estimator_.predict(a)\n",
    "puntaje[:,1]"
   ]
  },
  {
   "cell_type": "code",
   "execution_count": 81,
   "metadata": {
    "scrolled": true
   },
   "outputs": [
    {
     "data": {
      "text/html": [
       "<div>\n",
       "<style scoped>\n",
       "    .dataframe tbody tr th:only-of-type {\n",
       "        vertical-align: middle;\n",
       "    }\n",
       "\n",
       "    .dataframe tbody tr th {\n",
       "        vertical-align: top;\n",
       "    }\n",
       "\n",
       "    .dataframe thead th {\n",
       "        text-align: right;\n",
       "    }\n",
       "</style>\n",
       "<table border=\"1\" class=\"dataframe\">\n",
       "  <thead>\n",
       "    <tr style=\"text-align: right;\">\n",
       "      <th></th>\n",
       "      <th>Tweet_Id</th>\n",
       "      <th>Text</th>\n",
       "      <th>Datetime</th>\n",
       "      <th>Pais</th>\n",
       "      <th>Target</th>\n",
       "      <th>text_limpio</th>\n",
       "      <th>sentimiento</th>\n",
       "      <th>puntaje</th>\n",
       "    </tr>\n",
       "  </thead>\n",
       "  <tbody>\n",
       "    <tr>\n",
       "      <th>0</th>\n",
       "      <td>1241218096221827072</td>\n",
       "      <td>Señoress en tiempos de pandemia, nada mejor qu...</td>\n",
       "      <td>2020-03-21 04:20:29+00:00</td>\n",
       "      <td>Col</td>\n",
       "      <td>P</td>\n",
       "      <td>señoress en tiemp de pandemi nad mejor que pel...</td>\n",
       "      <td>P</td>\n",
       "      <td>0.844621</td>\n",
       "    </tr>\n",
       "    <tr>\n",
       "      <th>1</th>\n",
       "      <td>1254624530674393088</td>\n",
       "      <td>¿Pero en cuarentena? 🤷</td>\n",
       "      <td>2020-04-27 04:12:52+00:00</td>\n",
       "      <td>Col</td>\n",
       "      <td>N</td>\n",
       "      <td>per en cuarenten</td>\n",
       "      <td>P</td>\n",
       "      <td>0.509704</td>\n",
       "    </tr>\n",
       "  </tbody>\n",
       "</table>\n",
       "</div>"
      ],
      "text/plain": [
       "              Tweet_Id                                               Text  \\\n",
       "0  1241218096221827072  Señoress en tiempos de pandemia, nada mejor qu...   \n",
       "1  1254624530674393088                            ¿Pero en cuarentena? 🤷    \n",
       "\n",
       "                    Datetime Pais Target  \\\n",
       "0  2020-03-21 04:20:29+00:00  Col      P   \n",
       "1  2020-04-27 04:12:52+00:00  Col      N   \n",
       "\n",
       "                                         text_limpio sentimiento   puntaje  \n",
       "0  señoress en tiemp de pandemi nad mejor que pel...           P  0.844621  \n",
       "1                                   per en cuarenten           P  0.509704  "
      ]
     },
     "execution_count": 81,
     "metadata": {},
     "output_type": "execute_result"
    }
   ],
   "source": [
    "# Se agrega variable prediccion a la base de datos\n",
    "from pandas import DataFrame\n",
    "base_predict[\"sentimiento\"] = DataFrame(sentimiento,columns=['sentimiento'])\n",
    "base_predict[\"puntaje\"] = DataFrame(puntaje[:,1],columns=['puntaje'])\n",
    "base_predict[0:2]"
   ]
  },
  {
   "cell_type": "code",
   "execution_count": 82,
   "metadata": {},
   "outputs": [
    {
     "data": {
      "text/html": [
       "<div>\n",
       "<style scoped>\n",
       "    .dataframe tbody tr th:only-of-type {\n",
       "        vertical-align: middle;\n",
       "    }\n",
       "\n",
       "    .dataframe tbody tr th {\n",
       "        vertical-align: top;\n",
       "    }\n",
       "\n",
       "    .dataframe thead th {\n",
       "        text-align: right;\n",
       "    }\n",
       "</style>\n",
       "<table border=\"1\" class=\"dataframe\">\n",
       "  <thead>\n",
       "    <tr style=\"text-align: right;\">\n",
       "      <th></th>\n",
       "      <th>Tweet_Id</th>\n",
       "      <th>Text</th>\n",
       "      <th>Datetime</th>\n",
       "      <th>Pais</th>\n",
       "      <th>Target</th>\n",
       "      <th>text_limpio</th>\n",
       "      <th>sentimiento</th>\n",
       "      <th>puntaje</th>\n",
       "      <th>Dateprueba</th>\n",
       "    </tr>\n",
       "  </thead>\n",
       "  <tbody>\n",
       "    <tr>\n",
       "      <th>0</th>\n",
       "      <td>1241218096221827072</td>\n",
       "      <td>Señoress en tiempos de pandemia, nada mejor qu...</td>\n",
       "      <td>2020-03-21 04:20:29+00:00</td>\n",
       "      <td>Col</td>\n",
       "      <td>P</td>\n",
       "      <td>señoress en tiemp de pandemi nad mejor que pel...</td>\n",
       "      <td>P</td>\n",
       "      <td>0.844621</td>\n",
       "      <td>2020-03-21</td>\n",
       "    </tr>\n",
       "    <tr>\n",
       "      <th>1</th>\n",
       "      <td>1254624530674393088</td>\n",
       "      <td>¿Pero en cuarentena? 🤷</td>\n",
       "      <td>2020-04-27 04:12:52+00:00</td>\n",
       "      <td>Col</td>\n",
       "      <td>N</td>\n",
       "      <td>per en cuarenten</td>\n",
       "      <td>P</td>\n",
       "      <td>0.509704</td>\n",
       "      <td>2020-04-27</td>\n",
       "    </tr>\n",
       "  </tbody>\n",
       "</table>\n",
       "</div>"
      ],
      "text/plain": [
       "              Tweet_Id                                               Text  \\\n",
       "0  1241218096221827072  Señoress en tiempos de pandemia, nada mejor qu...   \n",
       "1  1254624530674393088                            ¿Pero en cuarentena? 🤷    \n",
       "\n",
       "                    Datetime Pais Target  \\\n",
       "0  2020-03-21 04:20:29+00:00  Col      P   \n",
       "1  2020-04-27 04:12:52+00:00  Col      N   \n",
       "\n",
       "                                         text_limpio sentimiento   puntaje  \\\n",
       "0  señoress en tiemp de pandemi nad mejor que pel...           P  0.844621   \n",
       "1                                   per en cuarenten           P  0.509704   \n",
       "\n",
       "   Dateprueba  \n",
       "0  2020-03-21  \n",
       "1  2020-04-27  "
      ]
     },
     "execution_count": 82,
     "metadata": {},
     "output_type": "execute_result"
    }
   ],
   "source": [
    "# dar formato a fecha\n",
    "base_predict['Dateprueba'] = pd.to_datetime(base_predict['Datetime'], errors='coerce')\n",
    "base_predict['Dateprueba'] = base_predict['Dateprueba'].dt.date\n",
    "base_predict[0:2]"
   ]
  },
  {
   "cell_type": "code",
   "execution_count": 83,
   "metadata": {},
   "outputs": [],
   "source": [
    "# creación de variables de positividad cambiando el %\n",
    "base_predict['Posi_60'] = base_predict['puntaje'].apply(lambda x: \"P\" if x>=0.60 else \"N\")\n",
    "base_predict['Posi_70'] = base_predict['puntaje'].apply(lambda x: \"P\" if x>=0.70 else \"N\")\n",
    "base_predict['Posi_80'] = base_predict['puntaje'].apply(lambda x: \"P\" if x>=0.80 else \"N\")"
   ]
  },
  {
   "cell_type": "code",
   "execution_count": null,
   "metadata": {},
   "outputs": [],
   "source": [
    "#transformación de variable target P/N a númerica 1/0\n",
    "base_predict['Target_num'] = base_predict['Target'].apply(lambda x: 1 if x=='P' else 0)"
   ]
  },
  {
   "cell_type": "code",
   "execution_count": 86,
   "metadata": {},
   "outputs": [
    {
     "name": "stdout",
     "output_type": "stream",
     "text": [
      "Curva ROC - AUC del modelo:\n",
      "0.7912848113170484\n"
     ]
    }
   ],
   "source": [
    "roc_auc = roc_auc_score(base_predict[\"Target_num\"], base_predict[\"puntaje\"])\n",
    "print('Curva ROC - AUC del modelo:')\n",
    "print(roc_auc)"
   ]
  },
  {
   "cell_type": "code",
   "execution_count": 53,
   "metadata": {},
   "outputs": [],
   "source": [
    "#guardar resultados\n",
    "base_predict.to_csv('base_Resultados_test.csv', header=True, index=False, encoding='utf-8-sig')"
   ]
  },
  {
   "cell_type": "code",
   "execution_count": 54,
   "metadata": {},
   "outputs": [],
   "source": [
    "graf_roc = base_predict"
   ]
  },
  {
   "cell_type": "code",
   "execution_count": 55,
   "metadata": {},
   "outputs": [
    {
     "data": {
      "text/html": [
       "<div>\n",
       "<style scoped>\n",
       "    .dataframe tbody tr th:only-of-type {\n",
       "        vertical-align: middle;\n",
       "    }\n",
       "\n",
       "    .dataframe tbody tr th {\n",
       "        vertical-align: top;\n",
       "    }\n",
       "\n",
       "    .dataframe thead th {\n",
       "        text-align: right;\n",
       "    }\n",
       "</style>\n",
       "<table border=\"1\" class=\"dataframe\">\n",
       "  <thead>\n",
       "    <tr style=\"text-align: right;\">\n",
       "      <th></th>\n",
       "      <th>Tweet_Id</th>\n",
       "      <th>Text</th>\n",
       "      <th>Datetime</th>\n",
       "      <th>Pais</th>\n",
       "      <th>Target</th>\n",
       "      <th>text_limpio</th>\n",
       "      <th>sentimiento</th>\n",
       "      <th>puntaje</th>\n",
       "      <th>Dateprueba</th>\n",
       "      <th>Posi_60</th>\n",
       "      <th>Posi_70</th>\n",
       "      <th>Posi_80</th>\n",
       "      <th>Target_num</th>\n",
       "    </tr>\n",
       "  </thead>\n",
       "  <tbody>\n",
       "    <tr>\n",
       "      <th>0</th>\n",
       "      <td>1241218096221827072</td>\n",
       "      <td>Señoress en tiempos de pandemia, nada mejor qu...</td>\n",
       "      <td>2020-03-21 04:20:29+00:00</td>\n",
       "      <td>Col</td>\n",
       "      <td>P</td>\n",
       "      <td>señoress en tiempos de pandemia nada mejor que...</td>\n",
       "      <td>P</td>\n",
       "      <td>0.844621</td>\n",
       "      <td>2020-03-21</td>\n",
       "      <td>P</td>\n",
       "      <td>P</td>\n",
       "      <td>P</td>\n",
       "      <td>1</td>\n",
       "    </tr>\n",
       "    <tr>\n",
       "      <th>1</th>\n",
       "      <td>1254624530674393088</td>\n",
       "      <td>¿Pero en cuarentena? 🤷</td>\n",
       "      <td>2020-04-27 04:12:52+00:00</td>\n",
       "      <td>Col</td>\n",
       "      <td>N</td>\n",
       "      <td>pero en cuarentena</td>\n",
       "      <td>P</td>\n",
       "      <td>0.544852</td>\n",
       "      <td>2020-04-27</td>\n",
       "      <td>N</td>\n",
       "      <td>N</td>\n",
       "      <td>N</td>\n",
       "      <td>0</td>\n",
       "    </tr>\n",
       "    <tr>\n",
       "      <th>2</th>\n",
       "      <td>1260601329375940610</td>\n",
       "      <td>Mi joystick...no alcanzará a llegar, gracias M...</td>\n",
       "      <td>2020-05-13 16:02:32+00:00</td>\n",
       "      <td>Chi</td>\n",
       "      <td>N</td>\n",
       "      <td>mi joystickno alcanzara a llegar gracias minsa...</td>\n",
       "      <td>P</td>\n",
       "      <td>0.530525</td>\n",
       "      <td>2020-05-13</td>\n",
       "      <td>N</td>\n",
       "      <td>N</td>\n",
       "      <td>N</td>\n",
       "      <td>0</td>\n",
       "    </tr>\n",
       "    <tr>\n",
       "      <th>3</th>\n",
       "      <td>1268498533906292738</td>\n",
       "      <td>Hablemos de belleza en la cuarentena bogotana....</td>\n",
       "      <td>2020-06-04 11:03:12+00:00</td>\n",
       "      <td>Col</td>\n",
       "      <td>P</td>\n",
       "      <td>hablemos de belleza en la cuarentena bogotana ...</td>\n",
       "      <td>P</td>\n",
       "      <td>0.703875</td>\n",
       "      <td>2020-06-04</td>\n",
       "      <td>P</td>\n",
       "      <td>P</td>\n",
       "      <td>N</td>\n",
       "      <td>1</td>\n",
       "    </tr>\n",
       "    <tr>\n",
       "      <th>4</th>\n",
       "      <td>1252826196217262081</td>\n",
       "      <td>💙💙💙 #homeworkslave #BoyWithLuv #cuarentena vam...</td>\n",
       "      <td>2020-04-22 05:06:56+00:00</td>\n",
       "      <td>Per</td>\n",
       "      <td>P</td>\n",
       "      <td>hashtag hashtag hashtag vamos aguantar</td>\n",
       "      <td>P</td>\n",
       "      <td>0.808059</td>\n",
       "      <td>2020-04-22</td>\n",
       "      <td>P</td>\n",
       "      <td>P</td>\n",
       "      <td>P</td>\n",
       "      <td>1</td>\n",
       "    </tr>\n",
       "  </tbody>\n",
       "</table>\n",
       "</div>"
      ],
      "text/plain": [
       "              Tweet_Id                                               Text  \\\n",
       "0  1241218096221827072  Señoress en tiempos de pandemia, nada mejor qu...   \n",
       "1  1254624530674393088                            ¿Pero en cuarentena? 🤷    \n",
       "2  1260601329375940610  Mi joystick...no alcanzará a llegar, gracias M...   \n",
       "3  1268498533906292738  Hablemos de belleza en la cuarentena bogotana....   \n",
       "4  1252826196217262081  💙💙💙 #homeworkslave #BoyWithLuv #cuarentena vam...   \n",
       "\n",
       "                    Datetime Pais Target  \\\n",
       "0  2020-03-21 04:20:29+00:00  Col      P   \n",
       "1  2020-04-27 04:12:52+00:00  Col      N   \n",
       "2  2020-05-13 16:02:32+00:00  Chi      N   \n",
       "3  2020-06-04 11:03:12+00:00  Col      P   \n",
       "4  2020-04-22 05:06:56+00:00  Per      P   \n",
       "\n",
       "                                         text_limpio sentimiento   puntaje  \\\n",
       "0  señoress en tiempos de pandemia nada mejor que...           P  0.844621   \n",
       "1                                 pero en cuarentena           P  0.544852   \n",
       "2  mi joystickno alcanzara a llegar gracias minsa...           P  0.530525   \n",
       "3  hablemos de belleza en la cuarentena bogotana ...           P  0.703875   \n",
       "4             hashtag hashtag hashtag vamos aguantar           P  0.808059   \n",
       "\n",
       "   Dateprueba Posi_60 Posi_70 Posi_80  Target_num  \n",
       "0  2020-03-21       P       P       P           1  \n",
       "1  2020-04-27       N       N       N           0  \n",
       "2  2020-05-13       N       N       N           0  \n",
       "3  2020-06-04       P       P       N           1  \n",
       "4  2020-04-22       P       P       P           1  "
      ]
     },
     "execution_count": 55,
     "metadata": {},
     "output_type": "execute_result"
    }
   ],
   "source": [
    "graf_roc.head()"
   ]
  },
  {
   "cell_type": "code",
   "execution_count": 91,
   "metadata": {},
   "outputs": [
    {
     "data": {
      "image/png": "[encoded data removed]",
      "text/plain": [
       "<Figure size 432x288 with 1 Axes>"
      ]
     },
     "metadata": {
      "needs_background": "light"
     },
     "output_type": "display_data"
    }
   ],
   "source": [
    "# gráfico ROC\n",
    "fpr, tpr, threshold = metrics.roc_curve(graf_roc['Target_num'], graf_roc['puntaje'])\n",
    "roc_auc = metrics.auc(fpr, tpr)\n",
    "\n",
    "plt.title('Curva ROC')\n",
    "plt.plot(fpr, tpr, 'b', label = 'AUC = %0.2f' % roc_auc)\n",
    "plt.legend(loc = 'lower right')\n",
    "plt.plot([0, 1], [0, 1],'r--')\n",
    "plt.xlim([0, 1])\n",
    "plt.ylim([0, 1])\n",
    "plt.ylabel('Tasa de verdaderos positivos')\n",
    "plt.xlabel('Tasa de falsos positivos')\n",
    "plt.show()"
   ]
  },
  {
   "cell_type": "code",
   "execution_count": 103,
   "metadata": {
    "scrolled": true
   },
   "outputs": [
    {
     "name": "stdout",
     "output_type": "stream",
     "text": [
      "              precision    recall  f1-score   support\n",
      "\n",
      "           N       0.70      0.76      0.73      4755\n",
      "           P       0.74      0.68      0.71      4791\n",
      "\n",
      "    accuracy                           0.72      9546\n",
      "   macro avg       0.72      0.72      0.72      9546\n",
      "weighted avg       0.72      0.72      0.72      9546\n",
      "\n"
     ]
    }
   ],
   "source": [
    "#metricas\n",
    "print(sklearn.metrics.classification_report(base_predict['Target'], base_predict['sentimiento']))"
   ]
  },
  {
   "cell_type": "code",
   "execution_count": 102,
   "metadata": {},
   "outputs": [
    {
     "data": {
      "text/plain": [
       "array([[3611, 1144],\n",
       "       [1531, 3260]], dtype=int64)"
      ]
     },
     "execution_count": 102,
     "metadata": {},
     "output_type": "execute_result"
    }
   ],
   "source": [
    "#matriz de confusión\n",
    "sklearn.metrics.confusion_matrix(base_predict['Target'], base_predict['sentimiento'])"
   ]
  }
 ],
 "metadata": {
  "kernelspec": {
   "display_name": "Python 3",
   "language": "python",
   "name": "python3"
  },
  "language_info": {
   "codemirror_mode": {
    "name": "ipython",
    "version": 3
   },
   "file_extension": ".py",
   "mimetype": "text/x-python",
   "name": "python",
   "nbconvert_exporter": "python",
   "pygments_lexer": "ipython3",
   "version": "3.8.3"
  }
 },
 "nbformat": 4,
 "nbformat_minor": 2
}
