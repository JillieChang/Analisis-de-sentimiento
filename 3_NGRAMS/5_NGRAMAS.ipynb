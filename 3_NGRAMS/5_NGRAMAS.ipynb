{
 "cells": [
  {
   "cell_type": "markdown",
   "metadata": {},
   "source": [
    "## N-GRAMS"
   ]
  },
  {
   "cell_type": "markdown",
   "metadata": {},
   "source": [
    "### 1. Cargar librerías"
   ]
  },
  {
   "cell_type": "code",
   "execution_count": 1,
   "metadata": {},
   "outputs": [],
   "source": [
    "# natural language processing: n-gram ranking\n",
    "import re\n",
    "import unicodedata\n",
    "import nltk\n",
    "import pandas as pd\n",
    "from nltk.corpus import stopwords\n",
    "import emoji as emoji\n",
    "import matplotlib.pyplot as plt"
   ]
  },
  {
   "cell_type": "markdown",
   "metadata": {},
   "source": [
    "### 2. Base de datos"
   ]
  },
  {
   "cell_type": "code",
   "execution_count": 2,
   "metadata": {},
   "outputs": [],
   "source": [
    "# Base de datos\n",
    "PAISES_TWEEPY_DISTINCT_ES_DIST = pd.read_csv(r'C:\\Users\\jilli\\Desktop\\TFM\\2\\PAISES_TWEEPY_DISTINCT_ES_DIST.csv')"
   ]
  },
  {
   "cell_type": "code",
   "execution_count": 3,
   "metadata": {},
   "outputs": [],
   "source": [
    "# Agregar columna \"clean_text\" en donde se realizará la limpieza de los tweets\n",
    "Nube=PAISES_TWEEPY_DISTINCT_ES_DIST\n",
    "Nube[\"clean_text\"]=Nube[\"Text\"].to_numpy()"
   ]
  },
  {
   "cell_type": "code",
   "execution_count": 4,
   "metadata": {},
   "outputs": [],
   "source": [
    "#Funciones de limpieza\n",
    "\n",
    "def removeURLs(str):\n",
    "    return re.sub(r'https?://\\S+','',str)\n",
    "def strip_emoji(text):\n",
    "    new_text = re.sub(emoji.get_emoji_regexp(), r\"\", text)\n",
    "    return new_text\n",
    "def remove_user(str):\n",
    "    return re.sub(r'@\\S+','',str)\n",
    "def punct_re_regex(s):     ##del profesor\n",
    "    return re.sub(r'[^\\w\\s]',' ',s)    \n",
    "def remove_digits(input_text):\n",
    "    return re.sub('\\d+', '', input_text)\n",
    "def remove_spaces(text):   #remueve espacios\n",
    "    return re.sub(r' +',' ',text)\n",
    "def remove_cant_char(str):\n",
    "    return re.sub(r'\\b\\w{1,2}\\b','',str)"
   ]
  },
  {
   "cell_type": "code",
   "execution_count": 5,
   "metadata": {},
   "outputs": [],
   "source": [
    "# aplicar funciones de limpieza\n",
    "Nube['clean_text']=Nube['clean_text'].str.lower()\n",
    "Nube[\"clean_text\"]=Nube[\"clean_text\"].apply(lambda tweet: removeURLs(tweet))\n",
    "Nube[\"clean_text\"]=Nube[\"clean_text\"].apply(lambda tweet: strip_emoji(tweet))\n",
    "Nube[\"clean_text\"]=Nube[\"clean_text\"].apply(lambda tweet: remove_user(tweet))\n",
    "Nube[\"clean_text\"]=Nube[\"clean_text\"].apply(lambda tweet: punct_re_regex(tweet))\n",
    "Nube[\"clean_text\"]=Nube[\"clean_text\"].apply(lambda tweet: remove_digits(tweet))\n",
    "Nube['clean_text']=Nube['clean_text'].str.replace(\"_\", \"\")\n",
    "Nube[\"clean_text\"]=Nube[\"clean_text\"].apply(lambda tweet: remove_spaces(tweet))\n",
    "Nube['clean_text']=Nube['clean_text'].str.strip()"
   ]
  },
  {
   "cell_type": "code",
   "execution_count": 6,
   "metadata": {},
   "outputs": [],
   "source": [
    "Nube['clean_text']=Nube['clean_text'].str.findall('\\w{2,}').str.join(' ')"
   ]
  },
  {
   "cell_type": "code",
   "execution_count": 7,
   "metadata": {},
   "outputs": [
    {
     "name": "stdout",
     "output_type": "stream",
     "text": [
      "There are 56355553 words in the combination of all review.\n"
     ]
    }
   ],
   "source": [
    "# conteo de cantidad de palabras\n",
    "texto2 = \" \".join(review for review in Nube.clean_text)\n",
    "print (\"There are {} words in the combination of all review.\".format(len(texto2)))"
   ]
  },
  {
   "cell_type": "code",
   "execution_count": 8,
   "metadata": {},
   "outputs": [],
   "source": [
    "# se extraen los stopwords\n",
    "spanish_stopwords = stopwords.words('spanish')   ##para quitar las stopwords\n",
    "spanish_stopwords.extend(['así','decir','sé','ir','ud','mierda','ademas','etc','además','pueden','dos','mese','cosa','gran','tan','puede','vez','creo','deben','dia','viru','vo','acá','dice','xq','mese','what','aún','día','hizo','debe','sigue','mismo','pasa','vo','fa','luego','alguien','cada','sino','','User','ma','aquí','mientras','vamo','ahí','sabe','sido','tener','meno','mientra','pue','pues','da','hacen','van','después','tbt','URL','va','mts','x','día','ser','ver','hace','hoy''ahora','solo','toda','at','q','juncal','mas','nunca','cómo','si','sí','hacer','hoy','sólo'])\n",
    "NubeSinStop = Nube\n",
    "NubeSinStop['clean_text'] = NubeSinStop['clean_text'].apply(lambda x: ' '.join([word for word in x.split() if word not in (spanish_stopwords)]))"
   ]
  },
  {
   "cell_type": "code",
   "execution_count": 9,
   "metadata": {},
   "outputs": [
    {
     "data": {
      "text/html": [
       "<div>\n",
       "<style scoped>\n",
       "    .dataframe tbody tr th:only-of-type {\n",
       "        vertical-align: middle;\n",
       "    }\n",
       "\n",
       "    .dataframe tbody tr th {\n",
       "        vertical-align: top;\n",
       "    }\n",
       "\n",
       "    .dataframe thead th {\n",
       "        text-align: right;\n",
       "    }\n",
       "</style>\n",
       "<table border=\"1\" class=\"dataframe\">\n",
       "  <thead>\n",
       "    <tr style=\"text-align: right;\">\n",
       "      <th></th>\n",
       "      <th>Tweet_Id</th>\n",
       "      <th>Tweet_User_Id</th>\n",
       "      <th>Tweet_User</th>\n",
       "      <th>Text</th>\n",
       "      <th>Retweets</th>\n",
       "      <th>Favorites</th>\n",
       "      <th>Replies</th>\n",
       "      <th>Datetime</th>\n",
       "      <th>hashtags</th>\n",
       "      <th>Pais</th>\n",
       "      <th>Tweet_Source</th>\n",
       "      <th>lang</th>\n",
       "      <th>clean_text</th>\n",
       "    </tr>\n",
       "  </thead>\n",
       "  <tbody>\n",
       "    <tr>\n",
       "      <th>1</th>\n",
       "      <td>1300264361466920960</td>\n",
       "      <td>85148912</td>\n",
       "      <td>jocaritomb</td>\n",
       "      <td>Día 166 #cuarentena ... Ya sé que se acabó, qu...</td>\n",
       "      <td>0</td>\n",
       "      <td>0</td>\n",
       "      <td>0</td>\n",
       "      <td>2020-08-31 02:49:16+00:00</td>\n",
       "      <td>#cuarentena</td>\n",
       "      <td>Col</td>\n",
       "      <td>Instagram</td>\n",
       "      <td>es</td>\n",
       "      <td>cuarentena acabó puedo salir prefiero seguir a...</td>\n",
       "    </tr>\n",
       "  </tbody>\n",
       "</table>\n",
       "</div>"
      ],
      "text/plain": [
       "              Tweet_Id  Tweet_User_Id  Tweet_User  \\\n",
       "1  1300264361466920960       85148912  jocaritomb   \n",
       "\n",
       "                                                Text  Retweets  Favorites  \\\n",
       "1  Día 166 #cuarentena ... Ya sé que se acabó, qu...         0          0   \n",
       "\n",
       "   Replies                   Datetime     hashtags Pais Tweet_Source lang  \\\n",
       "1        0  2020-08-31 02:49:16+00:00  #cuarentena  Col    Instagram   es   \n",
       "\n",
       "                                          clean_text  \n",
       "1  cuarentena acabó puedo salir prefiero seguir a...  "
      ]
     },
     "execution_count": 9,
     "metadata": {},
     "output_type": "execute_result"
    }
   ],
   "source": [
    "# se filtra un usuario porque escribe siempre lo mismo (propaganda)\n",
    "NubeSinStop= NubeSinStop[NubeSinStop.Tweet_User!='colorsonline1']\n",
    "NubeSinStop[1:2]"
   ]
  },
  {
   "cell_type": "code",
   "execution_count": 10,
   "metadata": {},
   "outputs": [],
   "source": [
    "bb = \" \".join(review for review in Nube.clean_text)\n",
    "words=bb.split()"
   ]
  },
  {
   "cell_type": "markdown",
   "metadata": {},
   "source": [
    "### 3. Elaboración de gráficos"
   ]
  },
  {
   "cell_type": "markdown",
   "metadata": {},
   "source": [
    "### 3.1 unigramas"
   ]
  },
  {
   "cell_type": "code",
   "execution_count": 17,
   "metadata": {},
   "outputs": [],
   "source": [
    "unigrams_series = (pd.Series(nltk.ngrams(words, 1)).value_counts())[:12]"
   ]
  },
  {
   "cell_type": "code",
   "execution_count": 18,
   "metadata": {},
   "outputs": [],
   "source": [
    "unigrams_series.to_csv('unigram.csv', header=True, index=True, encoding='utf-8-sig')"
   ]
  },
  {
   "cell_type": "code",
   "execution_count": 234,
   "metadata": {
    "scrolled": true
   },
   "outputs": [
    {
     "data": {
      "image/png": "[encoded data removed]",
      "text/plain": [
       "<Figure size 720x432 with 1 Axes>"
      ]
     },
     "metadata": {
      "needs_background": "light"
     },
     "output_type": "display_data"
    }
   ],
   "source": [
    "unigrams_series.sort_values().plot.barh(color='gray', width=.9, figsize=(10, 6))\n",
    "plt.ylabel('Unigrama')\n",
    "plt.xlabel('Número de casos')\n",
    "plt.savefig('Unigrama.png',dpi=400)\n",
    "plt.show()"
   ]
  },
  {
   "cell_type": "code",
   "execution_count": 23,
   "metadata": {},
   "outputs": [],
   "source": [
    "#(pd.Series(nltk.ngrams(words, 1)).value_counts())[:300]"
   ]
  },
  {
   "cell_type": "markdown",
   "metadata": {},
   "source": [
    "### 3.2 Bigramas"
   ]
  },
  {
   "cell_type": "code",
   "execution_count": 21,
   "metadata": {},
   "outputs": [],
   "source": [
    "bigrams_series = (pd.Series(nltk.ngrams(words, 2)).value_counts())[:12]"
   ]
  },
  {
   "cell_type": "code",
   "execution_count": 22,
   "metadata": {},
   "outputs": [
    {
     "data": {
      "image/png": "[encoded data removed]",
      "text/plain": [
       "<Figure size 720x432 with 1 Axes>"
      ]
     },
     "metadata": {
      "needs_background": "light"
     },
     "output_type": "display_data"
    }
   ],
   "source": [
    "bigrams_series.sort_values().plot.barh(color='gray', width=.9, figsize=(10, 6))\n",
    "plt.ylabel('Bigrama')\n",
    "plt.xlabel('Número de casos')\n",
    "plt.savefig('bigrama.png',dpi=400)\n",
    "plt.show()"
   ]
  },
  {
   "cell_type": "markdown",
   "metadata": {},
   "source": [
    "### 3.3 Trigramas"
   ]
  },
  {
   "cell_type": "code",
   "execution_count": null,
   "metadata": {
    "scrolled": true
   },
   "outputs": [],
   "source": [
    "trigrams_series = (pd.Series(nltk.ngrams(words, 3)).value_counts())[:12]"
   ]
  },
  {
   "cell_type": "code",
   "execution_count": null,
   "metadata": {},
   "outputs": [],
   "source": [
    "trigrams_series.sort_values().plot.barh(color='gray', width=.9, figsize=(10, 6))\n",
    "plt.ylabel('Trigrama')\n",
    "plt.xlabel('Número de casos')\n",
    "plt.savefig('Trigrama.png',dpi=400)\n",
    "plt.show()"
   ]
  },
  {
   "cell_type": "code",
   "execution_count": 92,
   "metadata": {},
   "outputs": [],
   "source": [
    "cuatrigrams_series = (pd.Series(nltk.ngrams(words, 4)).value_counts())[:12]"
   ]
  },
  {
   "cell_type": "code",
   "execution_count": 93,
   "metadata": {
    "scrolled": true
   },
   "outputs": [
    {
     "data": {
      "text/plain": [
       "<matplotlib.axes._subplots.AxesSubplot at 0x16e69089948>"
      ]
     },
     "execution_count": 93,
     "metadata": {},
     "output_type": "execute_result"
    },
    {
     "data": {
      "image/png": "[encoded data removed]",
      "text/plain": [
       "<Figure size 720x432 with 1 Axes>"
      ]
     },
     "metadata": {
      "needs_background": "light"
     },
     "output_type": "display_data"
    }
   ],
   "source": [
    "cuatrigrams_series.sort_values().plot.barh(color='gray', width=.9, figsize=(10, 6))"
   ]
  },
  {
   "cell_type": "code",
   "execution_count": 50,
   "metadata": {},
   "outputs": [
    {
     "data": {
      "text/plain": [
       "(ciudad, autónoma, buenos, aires)                                   1188\n",
       "(cuarentena, ciudad, autónoma, buenos)                               164\n",
       "(bbc, news, mundo, coronavirus)                                      163\n",
       "(almacenamiento, suministro, impresora, oficina)                     160\n",
       "(debido, situación, global, covid)                                   160\n",
       "(suministro, impresora, oficina, debido)                             160\n",
       "(colors, on, line, tecnologia)                                       160\n",
       "(accesorioscomputadores, almacenamiento, suministro, impresora)      160\n",
       "(on, line, tecnologia, accesorioscomputadores)                       160\n",
       "(global, covid, atributo, seguridad)                                 160\n",
       "(line, tecnologia, accesorioscomputadores, almacenamiento)           160\n",
       "(tecnologia, accesorioscomputadores, almacenamiento, suministro)     160\n",
       "dtype: int64"
      ]
     },
     "execution_count": 50,
     "metadata": {},
     "output_type": "execute_result"
    }
   ],
   "source": [
    "cuatrigrams_series"
   ]
  }
 ],
 "metadata": {
  "kernelspec": {
   "display_name": "Python 3",
   "language": "python",
   "name": "python3"
  },
  "language_info": {
   "codemirror_mode": {
    "name": "ipython",
    "version": 3
   },
   "file_extension": ".py",
   "mimetype": "text/x-python",
   "name": "python",
   "nbconvert_exporter": "python",
   "pygments_lexer": "ipython3",
   "version": "3.8.3"
  }
 },
 "nbformat": 4,
 "nbformat_minor": 2
}
